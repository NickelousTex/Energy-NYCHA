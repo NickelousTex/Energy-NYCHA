{
 "cells": [
  {
   "cell_type": "markdown",
   "metadata": {},
   "source": [
    "# EDA of Energy Consumption Data"
   ]
  },
  {
   "cell_type": "code",
   "execution_count": 46,
   "metadata": {},
   "outputs": [],
   "source": [
    "import pandas as pd\n",
    "import numpy as np\n",
    "import matplotlib.pyplot as plt"
   ]
  },
  {
   "cell_type": "code",
   "execution_count": 3,
   "metadata": {},
   "outputs": [],
   "source": [
    "df = pd.read_csv('../data/Electric_Consumption_And_Cost__2010_-__2017_.csv',\n",
    "                low_memory = False)"
   ]
  },
  {
   "cell_type": "code",
   "execution_count": 5,
   "metadata": {},
   "outputs": [],
   "source": [
    "df.columns = df.columns = df.columns.str.replace(' ', '_')"
   ]
  },
  {
   "cell_type": "code",
   "execution_count": 100,
   "metadata": {},
   "outputs": [],
   "source": [
    "# df.info()"
   ]
  },
  {
   "cell_type": "markdown",
   "metadata": {},
   "source": [
    "####  Non-Null query: 'Location', 'Meter_Scope', 'TDS_#',  'AMP_#'\n"
   ]
  },
  {
   "cell_type": "code",
   "execution_count": 16,
   "metadata": {},
   "outputs": [
    {
     "data": {
      "text/plain": [
       "51"
      ]
     },
     "execution_count": 16,
     "metadata": {},
     "output_type": "execute_result"
    }
   ],
   "source": [
    "df[df['Location'].isnull()]['TDS_#'].nunique()"
   ]
  },
  {
   "cell_type": "code",
   "execution_count": 21,
   "metadata": {},
   "outputs": [],
   "source": [
    "# df['Meter_Scope'] "
   ]
  },
  {
   "cell_type": "markdown",
   "metadata": {},
   "source": [
    "Meter Scope - Need to look further into. Appears to be a shared meter, that is then divided between buildings. How do they know the true split though?"
   ]
  },
  {
   "cell_type": "code",
   "execution_count": 25,
   "metadata": {},
   "outputs": [],
   "source": [
    "offices = df[df['TDS_#'].isnull()]\n",
    "# TDS missing looks to be the office locations for NYCHA\n",
    "\n"
   ]
  },
  {
   "cell_type": "code",
   "execution_count": 26,
   "metadata": {},
   "outputs": [],
   "source": [
    "# AMP number is the Asset Managment #, for grouping of Developments. "
   ]
  },
  {
   "cell_type": "markdown",
   "metadata": {},
   "source": [
    "#### Specific Col Analysis"
   ]
  },
  {
   "cell_type": "markdown",
   "metadata": {},
   "source": [
    "Rates can be different across vendors. May need to pull rates"
   ]
  },
  {
   "cell_type": "code",
   "execution_count": 70,
   "metadata": {},
   "outputs": [
    {
     "data": {
      "text/plain": [
       "NEW YORK POWER AUTHORITY             293786\n",
       "PSEG Long Island                       1138\n",
       "Long Island Power Authority             990\n",
       "CONSOLIDATED EDISON COMPANY OF NY       261\n",
       "Name: Vendor_Name, dtype: int64"
      ]
     },
     "execution_count": 70,
     "metadata": {},
     "output_type": "execute_result"
    }
   ],
   "source": [
    "df['Vendor_Name'].value_counts()"
   ]
  },
  {
   "cell_type": "markdown",
   "metadata": {},
   "source": [
    "Look into Non Developyment Facilities and FHA"
   ]
  },
  {
   "cell_type": "code",
   "execution_count": 69,
   "metadata": {},
   "outputs": [
    {
     "data": {
      "text/plain": [
       "BROOKLYN                    110810\n",
       "MANHATTAN                    77785\n",
       "BRONX                        67838\n",
       "QUEENS                       34921\n",
       "STATEN ISLAND                 2316\n",
       "NON DEVELOPMENT FACILITY      1571\n",
       "FHA                            934\n",
       "Name: Borough, dtype: int64"
      ]
     },
     "execution_count": 69,
     "metadata": {},
     "output_type": "execute_result"
    }
   ],
   "source": [
    "df['Borough'].value_counts()"
   ]
  },
  {
   "cell_type": "code",
   "execution_count": 35,
   "metadata": {},
   "outputs": [
    {
     "data": {
      "text/plain": [
       "368"
      ]
     },
     "execution_count": 35,
     "metadata": {},
     "output_type": "execute_result"
    }
   ],
   "source": [
    "df['Development_Name'].nunique()"
   ]
  },
  {
   "cell_type": "markdown",
   "metadata": {},
   "source": [
    "Checkout if both Non-Developments are same to merge, and Section 8 rule"
   ]
  },
  {
   "cell_type": "code",
   "execution_count": 68,
   "metadata": {},
   "outputs": [
    {
     "data": {
      "text/plain": [
       "FEDERAL               268182\n",
       "MIXED FINANCE/LLC1     19206\n",
       "MIXED FINANCE/LLC2      6361\n",
       "NON-DEVELOPMENT         1511\n",
       "SECTION 8                471\n",
       "FEDERAL-COOP             384\n",
       "Non-Development           60\n",
       "Name: Funding_Source, dtype: int64"
      ]
     },
     "execution_count": 68,
     "metadata": {},
     "output_type": "execute_result"
    }
   ],
   "source": [
    "df['Funding_Source'].value_counts()"
   ]
  },
  {
   "cell_type": "code",
   "execution_count": 38,
   "metadata": {},
   "outputs": [
    {
     "data": {
      "text/plain": [
       "96"
      ]
     },
     "execution_count": 38,
     "metadata": {},
     "output_type": "execute_result"
    }
   ],
   "source": [
    "df['Revenue_Month'].nunique() # 8 Years good. "
   ]
  },
  {
   "cell_type": "code",
   "execution_count": 41,
   "metadata": {},
   "outputs": [
    {
     "data": {
      "text/plain": [
       "468"
      ]
     },
     "execution_count": 41,
     "metadata": {},
     "output_type": "execute_result"
    }
   ],
   "source": [
    "df['Service_End_Date'].nunique()"
   ]
  },
  {
   "cell_type": "code",
   "execution_count": 44,
   "metadata": {},
   "outputs": [
    {
     "data": {
      "text/plain": [
       "472"
      ]
     },
     "execution_count": 44,
     "metadata": {},
     "output_type": "execute_result"
    }
   ],
   "source": [
    "df['Service_Start_Date'].nunique() # <- verify if any gaps in data exist"
   ]
  },
  {
   "cell_type": "markdown",
   "metadata": {},
   "source": [
    " Possible merge in order - Combine Account_Name, Location, TDS_# \n",
    "                            This should provide good index. "
   ]
  },
  {
   "cell_type": "code",
   "execution_count": 99,
   "metadata": {},
   "outputs": [],
   "source": [
    "account_name = set(df['Account_Name'].unique())\n",
    "development_name = set(df['Development_Name'].unique())\n",
    "differences = (account_name.difference(development_name)\n",
    "               -development_name.difference(account_name))\n",
    "print(differences) #Understand these unique differences."
   ]
  },
  {
   "cell_type": "code",
   "execution_count": 67,
   "metadata": {},
   "outputs": [
    {
     "data": {
      "text/plain": [
       "Yes          296078\n",
       "Exception        97\n",
       "Name: Bill_Analyzed, dtype: int64"
      ]
     },
     "execution_count": 67,
     "metadata": {},
     "output_type": "execute_result"
    }
   ],
   "source": [
    "df['Bill_Analyzed'].value_counts()"
   ]
  },
  {
   "cell_type": "code",
   "execution_count": 98,
   "metadata": {},
   "outputs": [],
   "source": [
    "# df['Other_charges'] # Check what goes into this"
   ]
  },
  {
   "cell_type": "code",
   "execution_count": 75,
   "metadata": {},
   "outputs": [
    {
     "data": {
      "text/plain": [
       "AMR         132938\n",
       "INTERVAL     85007\n",
       "NONE         78185\n",
       "Name: Meter_AMR, dtype: int64"
      ]
     },
     "execution_count": 75,
     "metadata": {},
     "output_type": "execute_result"
    }
   ],
   "source": [
    "df['Meter_AMR'].value_counts()"
   ]
  },
  {
   "cell_type": "code",
   "execution_count": 91,
   "metadata": {},
   "outputs": [
    {
     "data": {
      "text/plain": [
       "GOV/NYC/068                       154537\n",
       "GOV/NYC/068 TOD                    45818\n",
       "GOV/NYC/068                        37587\n",
       "GOV/NYC/062                        22171\n",
       "GOV/NYC/069                        16576\n",
       "GOV/NYC/062                         8008\n",
       "GOV/NYC/069                         6407\n",
       "GOV/NYC/068 TOD                     1328\n",
       "285-Prim Com Large Mult Per         1093\n",
       "281-Sec Com Large Gen Use            864\n",
       "GOV/NYC/068 HT                       848\n",
       "GOV/NYC/082                          344\n",
       "EL2                                  236\n",
       "GOV/NYC/082                          136\n",
       "284-Sec Com Large Multiple Per       109\n",
       "180-Residential General Use           62\n",
       "68                                    33\n",
       "GOV/NYC/064                           14\n",
       "EL2 Small Non-Res                      4\n",
       "Name: Rate_Class, dtype: int64"
      ]
     },
     "execution_count": 91,
     "metadata": {},
     "output_type": "execute_result"
    }
   ],
   "source": [
    "df['Rate_Class'].value_counts() #Interesting- combination possible?"
   ]
  },
  {
   "cell_type": "markdown",
   "metadata": {},
   "source": [
    "#### Feature Engineering\n",
    "   "
   ]
  },
  {
   "cell_type": "markdown",
   "metadata": {},
   "source": [
    "Merge for Account_Name, Location, TDS_#\n",
    "Meter_AMR to dummy variable\n",
    "Meter_Scope to Bool\n",
    "Funding_Source to dummy variable\n",
    "Vendor_Name to dummy variable\n",
    "Revenue month to decide or if with Start/Stop?\n",
    "Number of days...do we care if we organize by avg daily, or overall month? Same difference right?\n",
    "Rate_Class possible dummy?\n",
    "Bill_Analyized to dummy\n",
    "\n",
    "Excellent topic driver about difference between KWH and KW This could be a really specific driver right here about how to reduce demand charges??"
   ]
  },
  {
   "cell_type": "code",
   "execution_count": null,
   "metadata": {},
   "outputs": [],
   "source": [
    "DROP = ['Development_Name','Account_Name', 'Location','TDS_#','EDP'\n",
    "       ,'RC_Code','AMP_#','UMIS_BILL_ID','Meter_Number']"
   ]
  }
 ],
 "metadata": {
  "kernelspec": {
   "display_name": "Python 3",
   "language": "python",
   "name": "python3"
  },
  "language_info": {
   "codemirror_mode": {
    "name": "ipython",
    "version": 3
   },
   "file_extension": ".py",
   "mimetype": "text/x-python",
   "name": "python",
   "nbconvert_exporter": "python",
   "pygments_lexer": "ipython3",
   "version": "3.6.6"
  }
 },
 "nbformat": 4,
 "nbformat_minor": 2
}
