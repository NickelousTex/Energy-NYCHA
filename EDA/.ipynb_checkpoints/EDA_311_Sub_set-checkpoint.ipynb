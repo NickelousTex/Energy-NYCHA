{
 "cells": [
  {
   "cell_type": "code",
   "execution_count": 2,
   "metadata": {},
   "outputs": [],
   "source": [
    "import pandas as pd\n",
    "import matplotlib.pyplot as plt"
   ]
  },
  {
   "cell_type": "code",
   "execution_count": 2,
   "metadata": {},
   "outputs": [],
   "source": [
    "url =\"https://s3.us-east-2.amazonaws.com/capstone311-bucket/FDNY.csv\""
   ]
  },
  {
   "cell_type": "code",
   "execution_count": 4,
   "metadata": {},
   "outputs": [],
   "source": [
    "# df = pd.read_csv(url, iterator=True, chunksize=1000) "
   ]
  },
  {
   "cell_type": "code",
   "execution_count": 17,
   "metadata": {},
   "outputs": [],
   "source": [
    "first_chunk = df.get_chunk(87)"
   ]
  },
  {
   "cell_type": "markdown",
   "metadata": {},
   "source": [
    "## Now let's try using NYC API to get the data, just from 2018 most recent"
   ]
  },
  {
   "cell_type": "code",
   "execution_count": 3,
   "metadata": {},
   "outputs": [],
   "source": [
    "import os\n",
    "import pandas as pd\n",
    "from sodapy import Socrata\n",
    "import json"
   ]
  },
  {
   "cell_type": "code",
   "execution_count": 4,
   "metadata": {},
   "outputs": [],
   "source": [
    "# do this later sodapy_token = os.environ.get(\"SODAPY_APPTOKEN\")# API key (unlimited)\n",
    "sodapy_token = 'tvPeTjPatFwjuelfpMNb0G8WH'\n",
    "sodapy_domain = 'data.cityofnewyork.us'"
   ]
  },
  {
   "cell_type": "code",
   "execution_count": 5,
   "metadata": {},
   "outputs": [],
   "source": [
    "client = Socrata(sodapy_domain, sodapy_token)"
   ]
  },
  {
   "cell_type": "code",
   "execution_count": 6,
   "metadata": {},
   "outputs": [],
   "source": [
    "database_311 = \"fhrw-4uyv\""
   ]
  },
  {
   "cell_type": "code",
   "execution_count": 7,
   "metadata": {},
   "outputs": [],
   "source": [
    "# query = \"city = 'BRONX'\"\n",
    "query = \"created_date > '2017-01-01T13:00:00.000'\""
   ]
  },
  {
   "cell_type": "code",
   "execution_count": 8,
   "metadata": {},
   "outputs": [],
   "source": [
    "results = client.get(database_311, where=query\n",
    "                     , limit=100000) #never ever do above 100k again"
   ]
  },
  {
   "cell_type": "code",
   "execution_count": 9,
   "metadata": {},
   "outputs": [],
   "source": [
    "df = pd.DataFrame.from_records(results)"
   ]
  },
  {
   "cell_type": "code",
   "execution_count": 10,
   "metadata": {},
   "outputs": [],
   "source": [
    "df.to_csv('../data/100k_EDA_311.csv')"
   ]
  },
  {
   "cell_type": "code",
   "execution_count": 72,
   "metadata": {},
   "outputs": [],
   "source": [
    "api_df = df.copy()"
   ]
  },
  {
   "cell_type": "code",
   "execution_count": 73,
   "metadata": {},
   "outputs": [],
   "source": [
    " #for pandas\n",
    "DROP = ['bridge_highway_direction','bridge_highway_name',\n",
    "       'bridge_highway_segment', 'landmark','road_ramp']\n",
    "#for SoQL queries\n",
    "SELECT = \"\" "
   ]
  },
  {
   "cell_type": "code",
   "execution_count": 74,
   "metadata": {
    "scrolled": true
   },
   "outputs": [],
   "source": [
    "# api_df.info()\n",
    "##mostly highway litter issues for bridge_* columns\n",
    "# api_df['descriptor'][api_df['bridge_highway_direction'].notnull()]\n",
    "\n",
    "## interesting- location data maybe since are landmarks..but really not that many\n",
    "#api_df[api_df['landmark'].notnull()].count()\n",
    "\n",
    "##Two non-null out of 100k...\n",
    "#api_df[api_df['vehicle_type'].notnull()]\n",
    "\n",
    "#api_df[api_df['road_ramp'].notnull()]\n",
    "\n",
    "## Neighborhoods - probably better way to define\n",
    "# api_df['city'].value_counts\n",
    "\n",
    "## Drop unneeded columns\n",
    "api_df.drop(DROP, axis=1,inplace=True)"
   ]
  },
  {
   "cell_type": "code",
   "execution_count": 75,
   "metadata": {},
   "outputs": [
    {
     "name": "stdout",
     "output_type": "stream",
     "text": [
      "<class 'pandas.core.frame.DataFrame'>\n",
      "RangeIndex: 100000 entries, 0 to 99999\n",
      "Data columns (total 35 columns):\n",
      "address_type                      97475 non-null object\n",
      "agency                            100000 non-null object\n",
      "agency_name                       100000 non-null object\n",
      "bbl                               81871 non-null object\n",
      "borough                           100000 non-null object\n",
      "city                              97691 non-null object\n",
      "closed_date                       96133 non-null object\n",
      "community_board                   100000 non-null object\n",
      "complaint_type                    100000 non-null object\n",
      "created_date                      100000 non-null object\n",
      "cross_street_1                    61255 non-null object\n",
      "cross_street_2                    60971 non-null object\n",
      "descriptor                        99362 non-null object\n",
      "due_date                          48377 non-null object\n",
      "facility_type                     99942 non-null object\n",
      "incident_address                  85815 non-null object\n",
      "incident_zip                      97684 non-null object\n",
      "intersection_street_1             10618 non-null object\n",
      "intersection_street_2             10560 non-null object\n",
      "latitude                          94811 non-null object\n",
      "location                          94811 non-null object\n",
      "location_type                     80408 non-null object\n",
      "longitude                         94811 non-null object\n",
      "open_data_channel_type            100000 non-null object\n",
      "park_borough                      100000 non-null object\n",
      "park_facility_name                100000 non-null object\n",
      "resolution_action_updated_date    98302 non-null object\n",
      "resolution_description            91998 non-null object\n",
      "status                            100000 non-null object\n",
      "street_name                       85814 non-null object\n",
      "taxi_company_borough              176 non-null object\n",
      "taxi_pick_up_location             638 non-null object\n",
      "unique_key                        100000 non-null object\n",
      "x_coordinate_state_plane          94811 non-null object\n",
      "y_coordinate_state_plane          94811 non-null object\n",
      "dtypes: object(35)\n",
      "memory usage: 26.7+ MB\n"
     ]
    }
   ],
   "source": [
    "api_df.info()"
   ]
  },
  {
   "cell_type": "code",
   "execution_count": 76,
   "metadata": {
    "scrolled": false
   },
   "outputs": [],
   "source": [
    "##Can we drop agency vs agency_name? \n",
    "# api_df['agency'].nunique() # 22\n",
    "# api_df['agency'].value_counts()\n",
    "# api_df['agency_name'].nunique() # 145\n",
    "# print(api_df['agency_name'].value_counts())\n",
    "\n",
    "## Interesting- might be able to get more specific for sub agency level.\n",
    "## Consider combinging both columns"
   ]
  },
  {
   "cell_type": "code",
   "execution_count": 77,
   "metadata": {},
   "outputs": [],
   "source": [
    "## Null closed dates. These are pending assignment. Drops\n",
    "# api_df[api_df['closed_date'].isnull()]\n",
    "api_df.dropna(subset=['closed_date'],inplace=True)"
   ]
  },
  {
   "cell_type": "code",
   "execution_count": null,
   "metadata": {},
   "outputs": [],
   "source": []
  },
  {
   "cell_type": "code",
   "execution_count": 78,
   "metadata": {},
   "outputs": [],
   "source": [
    "# Let's get some general data going. Drops below are only for easier reading sake\n",
    "DROP2 = [ 'agency_name','city','cross_street_1', 'cross_street_2',\n",
    "          'facility_type', 'incident_address','intersection_street_1', 'intersection_street_2', \n",
    "         'latitude','location', 'location_type', 'longitude','park_borough', 'park_facility_name', 'street_name','taxi_company_borough', 'taxi_pick_up_location', 'unique_key',\n",
    "       'x_coordinate_state_plane', 'y_coordinate_state_plane','due_date','bbl']\n"
   ]
  },
  {
   "cell_type": "code",
   "execution_count": 79,
   "metadata": {},
   "outputs": [],
   "source": [
    "api_df.drop(DROP2,axis=1, inplace=True)"
   ]
  },
  {
   "cell_type": "code",
   "execution_count": 80,
   "metadata": {},
   "outputs": [],
   "source": [
    "#may end up needing these again\n",
    "DROP3 = ['address_type','incident_zip','resolution_action_updated_date','resolution_description']"
   ]
  },
  {
   "cell_type": "code",
   "execution_count": 81,
   "metadata": {},
   "outputs": [],
   "source": [
    "api_df.drop(DROP3,axis=1, inplace=True)"
   ]
  },
  {
   "cell_type": "code",
   "execution_count": 82,
   "metadata": {},
   "outputs": [
    {
     "name": "stdout",
     "output_type": "stream",
     "text": [
      "<class 'pandas.core.frame.DataFrame'>\n",
      "Int64Index: 96133 entries, 0 to 99999\n",
      "Data columns (total 9 columns):\n",
      "agency                    96133 non-null object\n",
      "borough                   96133 non-null object\n",
      "closed_date               96133 non-null object\n",
      "community_board           96133 non-null object\n",
      "complaint_type            96133 non-null object\n",
      "created_date              96133 non-null object\n",
      "descriptor                95500 non-null object\n",
      "open_data_channel_type    96133 non-null object\n",
      "status                    96133 non-null object\n",
      "dtypes: object(9)\n",
      "memory usage: 7.3+ MB\n"
     ]
    }
   ],
   "source": [
    "api_df.info()"
   ]
  },
  {
   "cell_type": "code",
   "execution_count": 21,
   "metadata": {},
   "outputs": [],
   "source": [
    "#drop null descriptor\n",
    "api_df.dropna(subset=['descriptor'],inplace=True)"
   ]
  },
  {
   "cell_type": "code",
   "execution_count": 71,
   "metadata": {},
   "outputs": [
    {
     "name": "stdout",
     "output_type": "stream",
     "text": [
      "It's a long list\n"
     ]
    }
   ],
   "source": [
    "api_df['community_board'].nunique() #77, but only 59 community boards?\n",
    "api_df['community_board'].value_counts()\n",
    "print(\"It's a long list\")"
   ]
  },
  {
   "cell_type": "markdown",
   "metadata": {},
   "source": [
    "#### Extension. Dropped community boards that wernt obvious- but can come back and actually assign them later."
   ]
  },
  {
   "cell_type": "code",
   "execution_count": 83,
   "metadata": {},
   "outputs": [],
   "source": [
    "# api_df[api_df['community_board']=='26 BRONX'] # most are in community board Bronx_8 need to clean this up- can use zip to determin?\n",
    "# api_df[api_df['community_board']=='Unspecified MANHATTAN'] #find location numbers to get attached into\n",
    "community_board_list = set(['06 BRONX', '01 BRONX', '14 QUEENS', '13 QUEENS',\n",
    "        '13 BROOKLYN', '09 BROOKLYN', '10 QUEENS',\n",
    "       '08 BRONX', '10 BRONX', '01 QUEENS', '11 QUEENS', '01 BROOKLYN',\n",
    "       '12 BRONX', '14 BROOKLYN', '07 MANHATTAN', '04 MANHATTAN',\n",
    "       '05 MANHATTAN', '07 BRONX', '06 QUEENS', '18 BROOKLYN',\n",
    "       '02 STATEN ISLAND', '15 BROOKLYN', '07 QUEENS', '03 STATEN ISLAND',\n",
    "       '03 QUEENS', '08 QUEENS', '01 STATEN ISLAND', '07 BROOKLYN',\n",
    "       '04 BRONX', '12 BROOKLYN', '12 QUEENS',\n",
    "       '17 BROOKLYN', '04 QUEENS', '03 BROOKLYN', '05 QUEENS',\n",
    "       '02 QUEENS', '03 MANHATTAN', '11 BRONX', '10 BROOKLYN',\n",
    "       '06 BROOKLYN', '11 BROOKLYN', '05 BROOKLYN', '04 BROOKLYN',\n",
    "       '12 MANHATTAN', '09 QUEENS', '09 MANHATTAN', '10 MANHATTAN',\n",
    "       '16 BROOKLYN', '09 BRONX', '05 BRONX', '02 BROOKLYN',\n",
    "       '06 MANHATTAN', '02 BRONX', '08 BROOKLYN', '11 MANHATTAN',\n",
    "       '08 MANHATTAN', '02 MANHATTAN',  '03 BRONX',\n",
    "       '01 MANHATTAN'])\n"
   ]
  },
  {
   "cell_type": "code",
   "execution_count": 84,
   "metadata": {},
   "outputs": [
    {
     "data": {
      "text/plain": [
       "59"
      ]
     },
     "execution_count": 84,
     "metadata": {},
     "output_type": "execute_result"
    }
   ],
   "source": [
    "len(community_board_list) # perfect there are 59 community boards"
   ]
  },
  {
   "cell_type": "code",
   "execution_count": 85,
   "metadata": {},
   "outputs": [],
   "source": [
    "#drop anything not identified as a community board for right now...\n",
    "api_df_cleaned = api_df[api_df['community_board'].isin(community_board_list)]"
   ]
  },
  {
   "cell_type": "code",
   "execution_count": 86,
   "metadata": {},
   "outputs": [],
   "source": [
    "api_df_cleaned = api_df_cleaned[api_df_cleaned['status'] == 'Closed']"
   ]
  },
  {
   "cell_type": "code",
   "execution_count": 87,
   "metadata": {},
   "outputs": [],
   "source": [
    "api_df_cleaned.drop('status',axis=1,inplace=True)"
   ]
  },
  {
   "cell_type": "code",
   "execution_count": 88,
   "metadata": {},
   "outputs": [
    {
     "name": "stdout",
     "output_type": "stream",
     "text": [
      "<class 'pandas.core.frame.DataFrame'>\n",
      "Int64Index: 91224 entries, 0 to 99999\n",
      "Data columns (total 8 columns):\n",
      "agency                    91224 non-null object\n",
      "borough                   91224 non-null object\n",
      "closed_date               91224 non-null object\n",
      "community_board           91224 non-null object\n",
      "complaint_type            91224 non-null object\n",
      "created_date              91224 non-null object\n",
      "descriptor                90612 non-null object\n",
      "open_data_channel_type    91224 non-null object\n",
      "dtypes: object(8)\n",
      "memory usage: 6.3+ MB\n"
     ]
    }
   ],
   "source": [
    "api_df_cleaned.info() # finally lets find outliers in our predictions"
   ]
  },
  {
   "cell_type": "code",
   "execution_count": 89,
   "metadata": {},
   "outputs": [],
   "source": [
    "created = pd.to_datetime(api_df_cleaned['created_date'],utc=True)\n",
    "closed = pd.to_datetime(api_df_cleaned['closed_date'],utc=True)\n",
    "api_df_cleaned['time_till_resolution'] =created - closed\n",
    "api_df_cleaned['time_till_resolution'] =(-round(\n",
    "    api_df_cleaned['time_till_resolution'].astype('timedelta64[s]')/3600,\n",
    "        2))"
   ]
  },
  {
   "cell_type": "code",
   "execution_count": 90,
   "metadata": {},
   "outputs": [],
   "source": [
    "api_df_cleaned.drop('closed_date', axis=1 , inplace=True)"
   ]
  },
  {
   "cell_type": "code",
   "execution_count": 91,
   "metadata": {},
   "outputs": [
    {
     "data": {
      "text/plain": [
       "13608.7"
      ]
     },
     "execution_count": 91,
     "metadata": {},
     "output_type": "execute_result"
    }
   ],
   "source": [
    "api_df_cleaned['time_till_resolution'].max()"
   ]
  },
  {
   "cell_type": "code",
   "execution_count": 92,
   "metadata": {},
   "outputs": [],
   "source": [
    "## Get Dummies Variables\n",
    "#convert created date to hour/day of week/month of year"
   ]
  },
  {
   "cell_type": "code",
   "execution_count": 93,
   "metadata": {},
   "outputs": [],
   "source": [
    "api_df_cleaned['created_date']= pd.to_datetime(api_df_cleaned['created_date'])"
   ]
  },
  {
   "cell_type": "code",
   "execution_count": 94,
   "metadata": {},
   "outputs": [],
   "source": [
    "api_df_cleaned['created_date_year'] = api_df_cleaned['created_date'].dt.year\n",
    "api_df_cleaned['created_date_month'] = api_df_cleaned['created_date'].dt.month\n",
    "api_df_cleaned['created_date_day'] = api_df_cleaned['created_date'].dt.day\n",
    "api_df_cleaned['created_date_hour'] = api_df_cleaned['created_date'].dt.hour\n",
    "api_df_cleaned['created_date_day_of_week'] = api_df_cleaned['created_date'].dt.dayofweek"
   ]
  },
  {
   "cell_type": "code",
   "execution_count": 95,
   "metadata": {},
   "outputs": [],
   "source": [
    "api_df_cleaned.drop('created_date',axis=1,inplace=True)"
   ]
  },
  {
   "cell_type": "code",
   "execution_count": 96,
   "metadata": {},
   "outputs": [],
   "source": [
    "#get dummies\n",
    "api_df_cleaned = pd.get_dummies(api_df_cleaned, columns=['agency','borough','community_board',\n",
    "                                      'complaint_type','descriptor','open_data_channel_type'])"
   ]
  },
  {
   "cell_type": "code",
   "execution_count": 97,
   "metadata": {},
   "outputs": [
    {
     "data": {
      "text/plain": [
       "(91224, 890)"
      ]
     },
     "execution_count": 97,
     "metadata": {},
     "output_type": "execute_result"
    }
   ],
   "source": [
    "api_df_cleaned.shape"
   ]
  },
  {
   "cell_type": "code",
   "execution_count": 98,
   "metadata": {},
   "outputs": [],
   "source": [
    "api_copy = api_df_cleaned.copy()"
   ]
  },
  {
   "cell_type": "markdown",
   "metadata": {},
   "source": [
    "# Continue"
   ]
  },
  {
   "cell_type": "code",
   "execution_count": 231,
   "metadata": {},
   "outputs": [],
   "source": [
    "#Lets get a time till closed column added in , in hours\n"
   ]
  },
  {
   "cell_type": "code",
   "execution_count": 70,
   "metadata": {},
   "outputs": [
    {
     "name": "stdout",
     "output_type": "stream",
     "text": [
      "<class 'pandas.core.frame.DataFrame'>\n",
      "Int64Index: 95500 entries, 0 to 99999\n",
      "Data columns (total 9 columns):\n",
      "agency                    95500 non-null object\n",
      "borough                   95500 non-null object\n",
      "closed_date               95500 non-null object\n",
      "community_board           95500 non-null object\n",
      "complaint_type            95500 non-null object\n",
      "created_date              95500 non-null object\n",
      "descriptor                95500 non-null object\n",
      "open_data_channel_type    95500 non-null object\n",
      "status                    95500 non-null object\n",
      "dtypes: object(9)\n",
      "memory usage: 7.3+ MB\n"
     ]
    }
   ],
   "source": [
    "api_df.info()"
   ]
  },
  {
   "cell_type": "code",
   "execution_count": 233,
   "metadata": {},
   "outputs": [
    {
     "data": {
      "text/plain": [
       "9.165518507853507"
      ]
     },
     "execution_count": 233,
     "metadata": {},
     "output_type": "execute_result"
    }
   ],
   "source": [
    "api_df['time_till_resolution'].mean() / 24"
   ]
  },
  {
   "cell_type": "code",
   "execution_count": 234,
   "metadata": {},
   "outputs": [
    {
     "data": {
      "text/plain": [
       "BROOKLYN         29953\n",
       "QUEENS           23986\n",
       "MANHATTAN        18191\n",
       "BRONX            16618\n",
       "STATEN ISLAND     5215\n",
       "Unspecified       1537\n",
       "Name: borough, dtype: int64"
      ]
     },
     "execution_count": 234,
     "metadata": {},
     "output_type": "execute_result"
    }
   ],
   "source": [
    "api_df['borough'].value_counts()"
   ]
  },
  {
   "cell_type": "code",
   "execution_count": 235,
   "metadata": {},
   "outputs": [
    {
     "data": {
      "text/plain": [
       "8.751325634352693"
      ]
     },
     "execution_count": 235,
     "metadata": {},
     "output_type": "execute_result"
    }
   ],
   "source": [
    "#Same deal as community board. Let's drop for now and come back later to fill in unspecified where we can.\n",
    "api_df[api_df['borough'] == 'Unspecified']['time_till_resolution'].mean() / 24"
   ]
  },
  {
   "cell_type": "code",
   "execution_count": 236,
   "metadata": {},
   "outputs": [
    {
     "data": {
      "text/plain": [
       "171"
      ]
     },
     "execution_count": 236,
     "metadata": {},
     "output_type": "execute_result"
    }
   ],
   "source": [
    "api_df['complaint_type'].nunique()"
   ]
  },
  {
   "cell_type": "code",
   "execution_count": 142,
   "metadata": {},
   "outputs": [],
   "source": [
    "# pd.set_option('display.max_rows', 10000) # need to read everything"
   ]
  },
  {
   "cell_type": "code",
   "execution_count": 143,
   "metadata": {},
   "outputs": [],
   "source": [
    "# api_df['descriptor']"
   ]
  },
  {
   "cell_type": "code",
   "execution_count": 144,
   "metadata": {
    "scrolled": false
   },
   "outputs": [],
   "source": [
    "# api_df.groupby(['agency','complaint_type','descriptor']).agg({'descriptor':['count']}) # need to decide how to bin descriptors"
   ]
  },
  {
   "cell_type": "code",
   "execution_count": 114,
   "metadata": {},
   "outputs": [],
   "source": []
  },
  {
   "cell_type": "code",
   "execution_count": 87,
   "metadata": {},
   "outputs": [
    {
     "data": {
      "text/plain": [
       "35516    PHONE\n",
       "Name: open_data_channel_type, dtype: object"
      ]
     },
     "execution_count": 87,
     "metadata": {},
     "output_type": "execute_result"
    }
   ],
   "source": [
    "api_df[ api_df['complaint_type']== 'Trans Fat']['open_data_channel_type'] # lets look at how many people call in these odd ones and how many get assigned to Mental Health"
   ]
  },
  {
   "cell_type": "code",
   "execution_count": 39,
   "metadata": {},
   "outputs": [
    {
     "data": {
      "text/plain": [
       "descriptor\n",
       "Blocked Bike Lane                  3.420741\n",
       "Blocked Hydrant                    4.458474\n",
       "Blocked Sidewalk                   6.848630\n",
       "Commercial Overnight Parking       4.553563\n",
       "Detached Trailer                  10.260000\n",
       "Double Parked Blocking Traffic     4.541259\n",
       "Double Parked Blocking Vehicle     4.656077\n",
       "Overnight Commercial Storage       4.909079\n",
       "Parking Permit Improper Use        3.685800\n",
       "Posted Parking Sign Violation      5.554474\n",
       "Unauthorized Bus Layover           4.445000\n",
       "Name: time_till_resolution, dtype: float64"
      ]
     },
     "execution_count": 39,
     "metadata": {},
     "output_type": "execute_result"
    }
   ],
   "source": [
    "#practice doing group by to get data\n",
    "(\n",
    "    api_df[api_df['complaint_type'] == 'Illegal Parking'].\n",
    " groupby('descriptor')['time_till_resolution'].mean()\n",
    ")"
   ]
  },
  {
   "cell_type": "code",
   "execution_count": 40,
   "metadata": {
    "scrolled": true
   },
   "outputs": [],
   "source": [
    "complaint_type_borough = (\n",
    "    api_df.groupby('borough')['complaint_type'].count()\n",
    ")\n"
   ]
  },
  {
   "cell_type": "code",
   "execution_count": 41,
   "metadata": {},
   "outputs": [],
   "source": [
    "X = complaint_type_borough.index\n",
    "y = complaint_type_borough[:]"
   ]
  },
  {
   "cell_type": "code",
   "execution_count": 42,
   "metadata": {},
   "outputs": [
    {
     "data": {
      "image/png": "[encoded data removed]",
      "text/plain": [
       "<Figure size 432x288 with 1 Axes>"
      ]
     },
     "metadata": {},
     "output_type": "display_data"
    }
   ],
   "source": [
    "plt.pie(y , labels=X)\n",
    "# plt.ylabel(rotation=45)\n",
    "plt.ylabel('Number of Complaints')\n",
    "plt.title('Number of Complaints by Borough');"
   ]
  },
  {
   "cell_type": "code",
   "execution_count": 43,
   "metadata": {},
   "outputs": [],
   "source": [
    "def complaint_types(borough_string):\n",
    "    return api_df[api_df['borough'] == borough_string]['complaint_type'].value_counts().head()"
   ]
  },
  {
   "cell_type": "code",
   "execution_count": 44,
   "metadata": {},
   "outputs": [],
   "source": [
    "bronx_complaints= complaint_types('BRONX')\n",
    "brooklyn_complaints = complaint_types('BROOKLYN')\n",
    "manhattan_complaints = complaint_types('MANHATTAN')\n",
    "queens_complaints =  complaint_types('QUEENS')\n",
    "staten_island_complaints = complaint_types('STATEN ISLAND')\n",
    "unspecified_complaints = complaint_types('Unspecified')\n",
    "complaint_variable_list = [bronx_complaints,brooklyn_complaints,\n",
    "                          manhattan_complaints,queens_complaints,\n",
    "                          staten_island_complaints,unspecified_complaints]"
   ]
  },
  {
   "cell_type": "code",
   "execution_count": 46,
   "metadata": {},
   "outputs": [
    {
     "data": {
      "text/plain": [
       "Text(0.5,1,'Unspecified')"
      ]
     },
     "execution_count": 46,
     "metadata": {},
     "output_type": "execute_result"
    },
    {
     "data": {
      "image/png": "[encoded data removed]",
      "text/plain": [
       "<Figure size 1440x1296 with 6 Axes>"
      ]
     },
     "metadata": {},
     "output_type": "display_data"
    }
   ],
   "source": [
    "f, ((ax1, ax2, ax3), (ax4, ax5, ax6)) = plt.subplots(2,3, figsize=(20,18))\n",
    "f.subplots_adjust(hspace=0.5)\n",
    "# for i , name in enumerate(complaint_variable_list) theres a way to do this\n",
    "#     axi.bar(range(len(name)),name,tick_label=name.index)\n",
    "ax1.bar(range(len(bronx_complaints)),bronx_complaints,tick_label=bronx_complaints.index)\n",
    "ax1.set_title('Bronx')\n",
    "for tick in ax1.get_xticklabels():\n",
    "        tick.set_rotation(45)\n",
    "ax2.bar(range(len(brooklyn_complaints)),brooklyn_complaints,tick_label=brooklyn_complaints.index)\n",
    "ax2.set_title('Brooklyn')\n",
    "for tick in ax2.get_xticklabels():\n",
    "        tick.set_rotation(45)\n",
    "ax3.bar(range(len(manhattan_complaints)),manhattan_complaints,tick_label=manhattan_complaints.index)\n",
    "ax3.set_title('Manhattan')\n",
    "for tick in ax3.get_xticklabels():\n",
    "        tick.set_rotation(45)\n",
    "ax4.bar(range(len(queens_complaints)),queens_complaints,tick_label=queens_complaints.index)\n",
    "ax4.set_title('Queens')\n",
    "for tick in ax4.get_xticklabels():\n",
    "        tick.set_rotation(45)\n",
    "ax5.bar(range(len(staten_island_complaints)),staten_island_complaints,tick_label=staten_island_complaints.index)\n",
    "ax5.set_title('Staten Island')\n",
    "for tick in ax5.get_xticklabels():\n",
    "        tick.set_rotation(45)\n",
    "ax6.bar(range(len(unspecified_complaints)),unspecified_complaints,tick_label=unspecified_complaints.index)\n",
    "ax6.set_title('Unspecified')\n",
    "# for tick in ax6.get_xtigcklabels():\n",
    "#         tick.set_rotation(10)   "
   ]
  },
  {
   "cell_type": "markdown",
   "metadata": {},
   "source": [
    "# Modeling"
   ]
  },
  {
   "cell_type": "code",
   "execution_count": 40,
   "metadata": {},
   "outputs": [],
   "source": [
    "import numpy as np\n",
    "from sklearn.ensemble import RandomForestRegressor , GradientBoostingRegressor\n",
    "from sklearn.model_selection import train_test_split"
   ]
  },
  {
   "cell_type": "code",
   "execution_count": 37,
   "metadata": {},
   "outputs": [],
   "source": [
    "y = api_df_cleaned.pop('time_till_resolution')"
   ]
  },
  {
   "cell_type": "code",
   "execution_count": 38,
   "metadata": {},
   "outputs": [],
   "source": [
    "X = api_df_cleaned"
   ]
  },
  {
   "cell_type": "code",
   "execution_count": 41,
   "metadata": {},
   "outputs": [],
   "source": [
    "X_train, X_test , y_train, y_test = train_test_split(X,y, test_size = .3, random_state = 33)"
   ]
  },
  {
   "cell_type": "code",
   "execution_count": 46,
   "metadata": {},
   "outputs": [],
   "source": [
    "random_forest = RandomForestRegressor()# start out of the box\n",
    "gradient_boost = GradientBoostingRegressor()"
   ]
  },
  {
   "cell_type": "code",
   "execution_count": 47,
   "metadata": {},
   "outputs": [
    {
     "data": {
      "text/plain": [
       "RandomForestRegressor(bootstrap=True, criterion='mse', max_depth=None,\n",
       "           max_features='auto', max_leaf_nodes=None,\n",
       "           min_impurity_decrease=0.0, min_impurity_split=None,\n",
       "           min_samples_leaf=1, min_samples_split=2,\n",
       "           min_weight_fraction_leaf=0.0, n_estimators=10, n_jobs=1,\n",
       "           oob_score=False, random_state=None, verbose=0, warm_start=False)"
      ]
     },
     "execution_count": 47,
     "metadata": {},
     "output_type": "execute_result"
    }
   ],
   "source": [
    "random_forest.fit(X_train, y_train)"
   ]
  },
  {
   "cell_type": "code",
   "execution_count": 48,
   "metadata": {},
   "outputs": [
    {
     "data": {
      "text/plain": [
       "0.917288802268721"
      ]
     },
     "execution_count": 48,
     "metadata": {},
     "output_type": "execute_result"
    }
   ],
   "source": [
    "random_forest.score(X_test,y_test)"
   ]
  },
  {
   "cell_type": "code",
   "execution_count": 289,
   "metadata": {},
   "outputs": [],
   "source": [
    "predictions = random_forest.predict(X_test)"
   ]
  },
  {
   "cell_type": "code",
   "execution_count": 50,
   "metadata": {},
   "outputs": [],
   "source": [
    "RF_features = random_forest.feature_importances_"
   ]
  },
  {
   "cell_type": "code",
   "execution_count": 51,
   "metadata": {},
   "outputs": [],
   "source": [
    "RF_incides = np.argsort(RF_features)[::-1]"
   ]
  },
  {
   "cell_type": "code",
   "execution_count": 52,
   "metadata": {},
   "outputs": [],
   "source": [
    "RF_names = X_test.columns"
   ]
  },
  {
   "cell_type": "code",
   "execution_count": 56,
   "metadata": {},
   "outputs": [
    {
     "data": {
      "text/plain": [
       "array([0.52340899, 0.28980145, 0.0212678 , 0.02010064, 0.0140001 ,\n",
       "       0.01348849, 0.01146704, 0.01081167, 0.00649774, 0.00573423])"
      ]
     },
     "execution_count": 56,
     "metadata": {},
     "output_type": "execute_result"
    }
   ],
   "source": [
    "RF_names[RF_incides][:10]\n",
    "RF_features[RF_incides][:10]"
   ]
  },
  {
   "cell_type": "code",
   "execution_count": 60,
   "metadata": {},
   "outputs": [
    {
     "data": {
      "image/png": "[encoded data removed]",
      "text/plain": [
       "<Figure size 432x288 with 1 Axes>"
      ]
     },
     "metadata": {},
     "output_type": "display_data"
    }
   ],
   "source": [
    "plt.barh(RF_names[RF_incides][:15],RF_features[RF_incides][:15]);"
   ]
  },
  {
   "cell_type": "markdown",
   "metadata": {},
   "source": [
    "### Gradient Boosting"
   ]
  },
  {
   "cell_type": "code",
   "execution_count": 62,
   "metadata": {},
   "outputs": [
    {
     "data": {
      "text/plain": [
       "GradientBoostingRegressor(alpha=0.9, criterion='friedman_mse', init=None,\n",
       "             learning_rate=0.1, loss='ls', max_depth=3, max_features=None,\n",
       "             max_leaf_nodes=None, min_impurity_decrease=0.0,\n",
       "             min_impurity_split=None, min_samples_leaf=1,\n",
       "             min_samples_split=2, min_weight_fraction_leaf=0.0,\n",
       "             n_estimators=100, presort='auto', random_state=None,\n",
       "             subsample=1.0, verbose=0, warm_start=False)"
      ]
     },
     "execution_count": 62,
     "metadata": {},
     "output_type": "execute_result"
    }
   ],
   "source": [
    "gradient_boost.fit(X_train, y_train)"
   ]
  },
  {
   "cell_type": "code",
   "execution_count": 63,
   "metadata": {},
   "outputs": [
    {
     "data": {
      "text/plain": [
       "0.9011631996593779"
      ]
     },
     "execution_count": 63,
     "metadata": {},
     "output_type": "execute_result"
    }
   ],
   "source": [
    "gradient_boost.score(X_test,y_test)"
   ]
  },
  {
   "cell_type": "code",
   "execution_count": 64,
   "metadata": {},
   "outputs": [],
   "source": [
    "GB_features = gradient_boost.feature_importances_"
   ]
  },
  {
   "cell_type": "code",
   "execution_count": 65,
   "metadata": {},
   "outputs": [],
   "source": [
    "GB_incides = np.argsort(GB_features)[::-1]"
   ]
  },
  {
   "cell_type": "code",
   "execution_count": 66,
   "metadata": {},
   "outputs": [],
   "source": [
    "GB_names = X_test.columns"
   ]
  },
  {
   "cell_type": "code",
   "execution_count": 67,
   "metadata": {},
   "outputs": [
    {
     "data": {
      "text/plain": [
       "array([0.20635814, 0.171712  , 0.07227093, 0.03636306, 0.03078797,\n",
       "       0.02518088, 0.02387137, 0.02043635, 0.01826371, 0.01657139])"
      ]
     },
     "execution_count": 67,
     "metadata": {},
     "output_type": "execute_result"
    }
   ],
   "source": [
    "GB_names[GB_incides][:10]\n",
    "GB_features[GB_incides][:10]"
   ]
  },
  {
   "cell_type": "code",
   "execution_count": 68,
   "metadata": {},
   "outputs": [
    {
     "data": {
      "image/png": "[encoded data removed]",
      "text/plain": [
       "<Figure size 432x288 with 1 Axes>"
      ]
     },
     "metadata": {},
     "output_type": "display_data"
    }
   ],
   "source": [
    "plt.barh(GB_names[GB_incides][:15],GB_features[GB_incides][:15]);"
   ]
  },
  {
   "cell_type": "markdown",
   "metadata": {},
   "source": [
    "### Now going to look into the possible outcomes"
   ]
  },
  {
   "cell_type": "code",
   "execution_count": null,
   "metadata": {},
   "outputs": [],
   "source": []
  },
  {
   "cell_type": "markdown",
   "metadata": {},
   "source": [
    "# use NLP to determin complaint descriptor (and then assign type & agency) Extended goal"
   ]
  },
  {
   "cell_type": "code",
   "execution_count": 140,
   "metadata": {},
   "outputs": [
    {
     "name": "stderr",
     "output_type": "stream",
     "text": [
      "/home/pipingkid/anaconda3/lib/python3.6/site-packages/sklearn/cross_validation.py:41: DeprecationWarning: This module was deprecated in version 0.18 in favor of the model_selection module into which all the refactored classes and functions are moved. Also note that the interface of the new CV iterators are different from that of this module. This module will be removed in 0.20.\n",
      "  \"This module will be removed in 0.20.\", DeprecationWarning)\n"
     ]
    }
   ],
   "source": [
    "import numpy as np\n",
    "from nltk.corpus import stopwords\n",
    "from nltk.tokenize import word_tokenize\n",
    "from nltk.stem.porter import PorterStemmer\n",
    "from nltk.stem.snowball import SnowballStemmer\n",
    "from nltk.stem.wordnet import WordNetLemmatizer\n",
    "from nltk import pos_tag\n",
    "from sklearn.feature_extraction.text import CountVectorizer, TfidfVectorizer\n",
    "from sklearn.metrics.pairwise import linear_kernel\n",
    "from sklearn.cross_validation import train_test_split\n",
    "from sklearn.metrics import *\n",
    "from sklearn.ensemble import RandomForestClassifier , AdaBoostClassifier , VotingClassifier\n",
    "from sklearn.naive_bayes import GaussianNB\n",
    "from sklearn.linear_model import LogisticRegression"
   ]
  },
  {
   "cell_type": "code",
   "execution_count": 141,
   "metadata": {},
   "outputs": [
    {
     "ename": "SyntaxError",
     "evalue": "invalid syntax (<ipython-input-141-8fd9b6809e2b>, line 2)",
     "output_type": "error",
     "traceback": [
      "\u001b[0;36m  File \u001b[0;32m\"<ipython-input-141-8fd9b6809e2b>\"\u001b[0;36m, line \u001b[0;32m2\u001b[0m\n\u001b[0;31m    training =\u001b[0m\n\u001b[0m               ^\u001b[0m\n\u001b[0;31mSyntaxError\u001b[0m\u001b[0;31m:\u001b[0m invalid syntax\n"
     ]
    }
   ],
   "source": [
    "lem = WordNetLemmatizer()\n",
    "training = "
   ]
  },
  {
   "cell_type": "code",
   "execution_count": null,
   "metadata": {},
   "outputs": [],
   "source": []
  }
 ],
 "metadata": {
  "kernelspec": {
   "display_name": "Python 3",
   "language": "python",
   "name": "python3"
  },
  "language_info": {
   "codemirror_mode": {
    "name": "ipython",
    "version": 3
   },
   "file_extension": ".py",
   "mimetype": "text/x-python",
   "name": "python",
   "nbconvert_exporter": "python",
   "pygments_lexer": "ipython3",
   "version": "3.6.6"
  }
 },
 "nbformat": 4,
 "nbformat_minor": 2
}
