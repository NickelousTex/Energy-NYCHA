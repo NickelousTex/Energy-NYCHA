{
 "cells": [
  {
   "cell_type": "markdown",
   "metadata": {},
   "source": [
    "# Minimal Viable Product:"
   ]
  },
  {
   "cell_type": "markdown",
   "metadata": {},
   "source": [
    "## An Analysis Of NYC 311 Data"
   ]
  },
  {
   "cell_type": "markdown",
   "metadata": {},
   "source": [
    "As part of their open data project, New York City post data from a variety of Departments and other Government Entities. This project takes data from the NYC 311 Open Data set and attempts to predict future outcome of complaints.\n",
    "\n",
    "<b> What is 311? </b><br>\n",
    "311 was introduced as a non-emergency alternative to 911 in 1996 to help overwhelmed police emergency calls by providing citizens with an alternative three digit call number to voice complaints.\n",
    "\n",
    "311 use in NYC has seen explosive growth since tracking was first introduced in 2003. Growing from approximitely 4.5 Million calls in it's first year to over 20million calls per year.\n",
    "\n",
    "<b> Why look at 311?</b><br> \n",
    "311 is a unique attempt by governments to be more responsive to their citizens concerns. 311 complaints vary widely from noise complaints to mental health services. Yet many people have never used 311. Often the response is \"it won't get fixed anyways, what's the point?\" \n",
    "\n",
    "This project seeks to identify exactly causes a 311 complaint to be repsonded to faster than another. The project will attempt to predict new 311 calls close time to answer a fundemental question:<br>\n",
    "<b><u> Can 311 Fix It? </b></u>\n",
    "\n",
    "Citizens belief in institutions is fundamental in their success. 311 is simply a tool, how it works and we use it determins it's effectiveness. "
   ]
  },
  {
   "cell_type": "code",
   "execution_count": 357,
   "metadata": {},
   "outputs": [
    {
     "data": {
      "text/html": [
       "<script>\n",
       "code_show=true; \n",
       "function code_toggle() {\n",
       " if (code_show){\n",
       " $('div.input').hide();\n",
       " } else {\n",
       " $('div.input').show();\n",
       " }\n",
       " code_show = !code_show\n",
       "} \n",
       "$( document ).ready(code_toggle);\n",
       "</script>\n",
       "<b>I've hidden the code by default for easier reading.\n",
       "To toggle on/off the raw code,</b><br> click <a href=\"javascript:code_toggle()\">here</a>."
      ],
      "text/plain": [
       "<IPython.core.display.HTML object>"
      ]
     },
     "execution_count": 357,
     "metadata": {},
     "output_type": "execute_result"
    }
   ],
   "source": [
    "HTML('''<script>\n",
    "code_show=true; \n",
    "function code_toggle() {\n",
    " if (code_show){\n",
    " $('div.input').hide();\n",
    " } else {\n",
    " $('div.input').show();\n",
    " }\n",
    " code_show = !code_show\n",
    "} \n",
    "$( document ).ready(code_toggle);\n",
    "</script>\n",
    "<b>I've hidden the code by default for easier reading.\n",
    "To toggle on/off the raw code,</b><br> click <a href=\"javascript:code_toggle()\">here</a>.''')"
   ]
  },
  {
   "cell_type": "code",
   "execution_count": 5,
   "metadata": {},
   "outputs": [
    {
     "name": "stdout",
     "output_type": "stream",
     "text": [
      "cleaning.py   mapping.py      noise_complaints_flagged.html  testing.py\r\n",
      "dashboard.py  noise_311.html  \u001b[0m\u001b[01;34m__pycache__\u001b[0m/\r\n"
     ]
    }
   ],
   "source": [
    "ls"
   ]
  },
  {
   "cell_type": "code",
   "execution_count": 1,
   "metadata": {},
   "outputs": [
    {
     "ename": "ModuleNotFoundError",
     "evalue": "No module named 'cleaning'",
     "output_type": "error",
     "traceback": [
      "\u001b[0;31m---------------------------------------------------------------------------\u001b[0m",
      "\u001b[0;31mModuleNotFoundError\u001b[0m                       Traceback (most recent call last)",
      "\u001b[0;32m<ipython-input-1-eb96de6bc4cb>\u001b[0m in \u001b[0;36m<module>\u001b[0;34m()\u001b[0m\n\u001b[1;32m     19\u001b[0m \u001b[0;34m\u001b[0m\u001b[0m\n\u001b[1;32m     20\u001b[0m \u001b[0;31m#Import scripts I wrote to simplify code in the notebook\u001b[0m\u001b[0;34m\u001b[0m\u001b[0;34m\u001b[0m\u001b[0m\n\u001b[0;32m---> 21\u001b[0;31m \u001b[0;32mfrom\u001b[0m \u001b[0mcleaning\u001b[0m \u001b[0;32mimport\u001b[0m \u001b[0;34m*\u001b[0m\u001b[0;34m\u001b[0m\u001b[0m\n\u001b[0m\u001b[1;32m     22\u001b[0m \u001b[0;32mfrom\u001b[0m \u001b[0mmapping\u001b[0m \u001b[0;32mimport\u001b[0m \u001b[0;34m*\u001b[0m\u001b[0;34m\u001b[0m\u001b[0m\n",
      "\u001b[0;31mModuleNotFoundError\u001b[0m: No module named 'cleaning'"
     ]
    }
   ],
   "source": [
    "#Normally needed libaries\n",
    "import os\n",
    "import math\n",
    "import pandas as pd\n",
    "import numpy as np\n",
    "#Socrata is NYC's API\n",
    "from sodapy import Socrata\n",
    "import json\n",
    "#Plotting libaries Folium & Plotly\n",
    "import matplotlib.pyplot as plt\n",
    "import folium\n",
    "from folium import plugins\n",
    "from folium.plugins import HeatMap\n",
    "from folium.plugins import MarkerCluster\n",
    "from plotly import tools\n",
    "import plotly.plotly as py\n",
    "import plotly.graph_objs as go\n",
    "from IPython.display import HTML\n",
    "\n",
    "#Import scripts I wrote to simplify code in the notebook\n",
    "from cleaning import *\n",
    "from mapping import *"
   ]
  },
  {
   "cell_type": "code",
   "execution_count": null,
   "metadata": {},
   "outputs": [],
   "source": [
    "%load_ext autoreload\n",
    "%autoreload 2"
   ]
  },
  {
   "cell_type": "markdown",
   "metadata": {},
   "source": [
    "## Initial Exploritory Data Analysis"
   ]
  },
  {
   "cell_type": "code",
   "execution_count": 360,
   "metadata": {},
   "outputs": [],
   "source": [
    "sodapy_token = 'tvPeTjPatFwjuelfpMNb0G8WH'\n",
    "sodapy_domain = 'data.cityofnewyork.us'\n",
    "client = Socrata(sodapy_domain, sodapy_token)\n",
    "database_311 = \"fhrw-4uyv\"\n",
    "query = \"created_date > '2017-01-01T13:00:00.000'\""
   ]
  },
  {
   "cell_type": "code",
   "execution_count": 361,
   "metadata": {},
   "outputs": [],
   "source": [
    "# Limit the initial data set to 100k for easier handeling.\n",
    "results = client.get(database_311, where=query\n",
    "                     , limit=100000)\n",
    "df = pd.DataFrame.from_records(results)"
   ]
  },
  {
   "cell_type": "code",
   "execution_count": 362,
   "metadata": {},
   "outputs": [
    {
     "name": "stdout",
     "output_type": "stream",
     "text": [
      "<class 'pandas.core.frame.DataFrame'>\n",
      "RangeIndex: 100000 entries, 0 to 99999\n",
      "Data columns (total 41 columns):\n",
      "address_type                      98078 non-null object\n",
      "agency                            100000 non-null object\n",
      "agency_name                       100000 non-null object\n",
      "bbl                               80356 non-null object\n",
      "borough                           100000 non-null object\n",
      "bridge_highway_direction          148 non-null object\n",
      "bridge_highway_name               148 non-null object\n",
      "bridge_highway_segment            189 non-null object\n",
      "city                              97583 non-null object\n",
      "closed_date                       72917 non-null object\n",
      "community_board                   100000 non-null object\n",
      "complaint_type                    100000 non-null object\n",
      "created_date                      100000 non-null object\n",
      "cross_street_1                    59591 non-null object\n",
      "cross_street_2                    59334 non-null object\n",
      "descriptor                        99130 non-null object\n",
      "due_date                          48870 non-null object\n",
      "facility_type                     99951 non-null object\n",
      "incident_address                  85468 non-null object\n",
      "incident_zip                      97558 non-null object\n",
      "intersection_street_1             12196 non-null object\n",
      "intersection_street_2             12110 non-null object\n",
      "landmark                          47 non-null object\n",
      "latitude                          95597 non-null object\n",
      "location                          95597 non-null object\n",
      "location_type                     82046 non-null object\n",
      "longitude                         95597 non-null object\n",
      "open_data_channel_type            100000 non-null object\n",
      "park_borough                      100000 non-null object\n",
      "park_facility_name                100000 non-null object\n",
      "resolution_action_updated_date    89696 non-null object\n",
      "resolution_description            91876 non-null object\n",
      "road_ramp                         148 non-null object\n",
      "status                            100000 non-null object\n",
      "street_name                       85467 non-null object\n",
      "taxi_company_borough              86 non-null object\n",
      "taxi_pick_up_location             428 non-null object\n",
      "unique_key                        100000 non-null object\n",
      "vehicle_type                      3 non-null object\n",
      "x_coordinate_state_plane          95597 non-null object\n",
      "y_coordinate_state_plane          95597 non-null object\n",
      "dtypes: object(41)\n",
      "memory usage: 31.3+ MB\n"
     ]
    }
   ],
   "source": [
    "df.info()"
   ]
  },
  {
   "cell_type": "markdown",
   "metadata": {},
   "source": [
    "<b>Initially we drop bridge information along with landmarks and road ramps because of their small contribution to the set as well as not entirely accurate in some cases</b>"
   ]
  },
  {
   "cell_type": "code",
   "execution_count": 363,
   "metadata": {},
   "outputs": [],
   "source": [
    "DROP = ['bridge_highway_direction','bridge_highway_name',\n",
    "       'bridge_highway_segment', 'landmark','road_ramp']"
   ]
  },
  {
   "cell_type": "code",
   "execution_count": 413,
   "metadata": {},
   "outputs": [],
   "source": [
    "api_df = df.copy()"
   ]
  },
  {
   "cell_type": "code",
   "execution_count": 414,
   "metadata": {},
   "outputs": [
    {
     "name": "stdout",
     "output_type": "stream",
     "text": [
      "number of unique entires in \"city\": 118\n"
     ]
    }
   ],
   "source": [
    "##mostly highway litter issues for bridge_* columns\n",
    "api_df['descriptor'][api_df['bridge_highway_direction'].notnull()].head()\n",
    "\n",
    "## interesting- location data maybe since are landmarks..but really not that many\n",
    "api_df[api_df['landmark'].notnull()].count()\n",
    "\n",
    "##Two non-null out of 100k...\n",
    "# api_df[api_df['vehicle_type'].notnull()]\n",
    "\n",
    "api_df[api_df['road_ramp'].notnull()]\n",
    "\n",
    "## Neighborhoods - probably better way to define\n",
    "print('number of unique entires in \"city\": {}'.format(api_df['city'].nunique()))"
   ]
  },
  {
   "cell_type": "code",
   "execution_count": 415,
   "metadata": {},
   "outputs": [
    {
     "name": "stdout",
     "output_type": "stream",
     "text": [
      "Number of Unique Latitude locations: 59099\n",
      "Number of Unique Longitude locations: 59099\n"
     ]
    }
   ],
   "source": [
    "print(\"Number of Unique Latitude locations: {}\".format(api_df['latitude'].nunique()))\n",
    "print(\"Number of Unique Longitude locations: {}\".format(api_df['longitude'].nunique()))\n"
   ]
  },
  {
   "cell_type": "code",
   "execution_count": 416,
   "metadata": {},
   "outputs": [],
   "source": [
    "## Drop unneeded columns\n",
    "api_df.drop(DROP, axis=1,inplace=True)"
   ]
  },
  {
   "cell_type": "markdown",
   "metadata": {},
   "source": [
    "<b>We can drop city simply because we have useful location data represented in Latitude/Longitude</b>"
   ]
  },
  {
   "cell_type": "code",
   "execution_count": 417,
   "metadata": {},
   "outputs": [
    {
     "data": {
      "text/plain": [
       "NYPD     32361\n",
       "HPD      19150\n",
       "DSNY     16402\n",
       "DOT       9447\n",
       "DEP       6903\n",
       "DPR       4362\n",
       "DOB       3434\n",
       "DOHMH     3063\n",
       "TLC       1128\n",
       "DHS       1124\n",
       "DOF       1116\n",
       "DCA        809\n",
       "HRA        273\n",
       "DFTA       251\n",
       "DOE         53\n",
       "EDC         31\n",
       "DOITT       29\n",
       "DCAS        22\n",
       "NYCEM       22\n",
       "ACS         15\n",
       "TAX          2\n",
       "DCP          2\n",
       "3-1-1        1\n",
       "Name: agency, dtype: int64"
      ]
     },
     "execution_count": 417,
     "metadata": {},
     "output_type": "execute_result"
    }
   ],
   "source": [
    "##Can we drop agency vs agency_name? \n",
    "api_df['agency'].nunique() # 16\n",
    "api_df['agency_name'].nunique() # 115\n",
    "api_df['agency'].value_counts()\n",
    "# print(api_df['agency_name'].value_counts())\n",
    "\n",
    "## Interesting- might be able to get more specific for sub agency level.\n",
    "## Consider combinging both columns"
   ]
  },
  {
   "cell_type": "code",
   "execution_count": 418,
   "metadata": {},
   "outputs": [],
   "source": [
    "## Null closed dates. These are pending assignment. Drops\n",
    "# api_df[api_df['closed_date'].isnull()]\n",
    "api_df.dropna(subset=['closed_date'],inplace=True)"
   ]
  },
  {
   "cell_type": "markdown",
   "metadata": {},
   "source": [
    "<b>We drop any 'closed_date' that are empty, as we're interested in gettting only completed data</b>"
   ]
  },
  {
   "cell_type": "code",
   "execution_count": 419,
   "metadata": {},
   "outputs": [
    {
     "name": "stdout",
     "output_type": "stream",
     "text": [
      "<class 'pandas.core.frame.DataFrame'>\n",
      "Int64Index: 72917 entries, 0 to 99999\n",
      "Data columns (total 36 columns):\n",
      "address_type                      71847 non-null object\n",
      "agency                            72917 non-null object\n",
      "agency_name                       72917 non-null object\n",
      "bbl                               57921 non-null object\n",
      "borough                           72917 non-null object\n",
      "city                              71106 non-null object\n",
      "closed_date                       72917 non-null object\n",
      "community_board                   72917 non-null object\n",
      "complaint_type                    72917 non-null object\n",
      "created_date                      72917 non-null object\n",
      "cross_street_1                    47462 non-null object\n",
      "cross_street_2                    47317 non-null object\n",
      "descriptor                        72050 non-null object\n",
      "due_date                          38336 non-null object\n",
      "facility_type                     72917 non-null object\n",
      "incident_address                  61454 non-null object\n",
      "incident_zip                      71089 non-null object\n",
      "intersection_street_1             9973 non-null object\n",
      "intersection_street_2             9932 non-null object\n",
      "latitude                          69897 non-null object\n",
      "location                          69897 non-null object\n",
      "location_type                     59395 non-null object\n",
      "longitude                         69897 non-null object\n",
      "open_data_channel_type            72917 non-null object\n",
      "park_borough                      72917 non-null object\n",
      "park_facility_name                72917 non-null object\n",
      "resolution_action_updated_date    71724 non-null object\n",
      "resolution_description            66981 non-null object\n",
      "status                            72917 non-null object\n",
      "street_name                       61453 non-null object\n",
      "taxi_company_borough              35 non-null object\n",
      "taxi_pick_up_location             131 non-null object\n",
      "unique_key                        72917 non-null object\n",
      "vehicle_type                      1 non-null object\n",
      "x_coordinate_state_plane          69897 non-null object\n",
      "y_coordinate_state_plane          69897 non-null object\n",
      "dtypes: object(36)\n",
      "memory usage: 20.6+ MB\n"
     ]
    }
   ],
   "source": [
    "api_df.info()"
   ]
  },
  {
   "cell_type": "markdown",
   "metadata": {},
   "source": [
    "<b>After looking at columns, decided to drop quite a few that were either small contributors or copies of information from other columns\n",
    "\n",
    "We then drop anything missing in the 'descriptor' column<b>"
   ]
  },
  {
   "cell_type": "code",
   "execution_count": 420,
   "metadata": {},
   "outputs": [],
   "source": [
    "# Let's get some general data going. Drops below are only for easier reading sake\n",
    "DROP2 = [ 'agency_name','city','cross_street_1', 'cross_street_2',\n",
    "          'facility_type', 'incident_address','intersection_street_1', 'intersection_street_2', \n",
    "         'location', 'location_type', 'park_borough', 'park_facility_name', 'street_name','taxi_company_borough', 'taxi_pick_up_location', 'unique_key',\n",
    "       'x_coordinate_state_plane', 'y_coordinate_state_plane','due_date','bbl','vehicle_type']\n",
    "#Come back for Latitude & Longitiude\n",
    "DROP3 = ['address_type','incident_zip','resolution_action_updated_date','resolution_description','longitude','latitude']"
   ]
  },
  {
   "cell_type": "code",
   "execution_count": 421,
   "metadata": {},
   "outputs": [],
   "source": [
    "api_df.drop(DROP2,axis=1, inplace=True)\n",
    "api_df.drop(DROP3,axis=1, inplace=True)"
   ]
  },
  {
   "cell_type": "code",
   "execution_count": 422,
   "metadata": {},
   "outputs": [],
   "source": [
    "#drop null descriptor\n",
    "api_df.dropna(subset=['descriptor'],inplace=True)"
   ]
  },
  {
   "cell_type": "code",
   "execution_count": 423,
   "metadata": {},
   "outputs": [
    {
     "name": "stdout",
     "output_type": "stream",
     "text": [
      "<class 'pandas.core.frame.DataFrame'>\n",
      "Int64Index: 72050 entries, 0 to 99999\n",
      "Data columns (total 9 columns):\n",
      "agency                    72050 non-null object\n",
      "borough                   72050 non-null object\n",
      "closed_date               72050 non-null object\n",
      "community_board           72050 non-null object\n",
      "complaint_type            72050 non-null object\n",
      "created_date              72050 non-null object\n",
      "descriptor                72050 non-null object\n",
      "open_data_channel_type    72050 non-null object\n",
      "status                    72050 non-null object\n",
      "dtypes: object(9)\n",
      "memory usage: 5.5+ MB\n"
     ]
    }
   ],
   "source": [
    "api_df.info()"
   ]
  },
  {
   "cell_type": "markdown",
   "metadata": {},
   "source": [
    "<b>What we are left with is key items that we need going forward!</b>"
   ]
  },
  {
   "cell_type": "code",
   "execution_count": 424,
   "metadata": {},
   "outputs": [
    {
     "name": "stdout",
     "output_type": "stream",
     "text": [
      "Number of Community Boards: 77\n"
     ]
    }
   ],
   "source": [
    "print(\"Number of Community Boards: {}\".format(api_df['community_board'].nunique())) \n",
    "#76, but only 59 community boards?\n",
    "# api_df['community_board'].value_count"
   ]
  },
  {
   "cell_type": "markdown",
   "metadata": {},
   "source": [
    "<b>Interesting, there are only 59 community boards in NYC. Researching this we find some odd inputs that are either undefined or incorrect. For right now we simply remove them for simplicity sake, but there are ways to get them included back in.</b>"
   ]
  },
  {
   "cell_type": "code",
   "execution_count": 425,
   "metadata": {},
   "outputs": [],
   "source": [
    "# api_df[api_df['community_board']=='26 BRONX'] # most are in community board Bronx_8 need to clean this up- can use zip to determin?\n",
    "# api_df[api_df['community_board']=='Unspecified MANHATTAN'] #find location numbers to get attached into\n",
    "community_board_list = {'06 BRONX', '01 BRONX', '14 QUEENS', '13 QUEENS',\n",
    "        '13 BROOKLYN', '09 BROOKLYN', '10 QUEENS',\n",
    "       '08 BRONX', '10 BRONX', '01 QUEENS', '11 QUEENS', '01 BROOKLYN',\n",
    "       '12 BRONX', '14 BROOKLYN', '07 MANHATTAN', '04 MANHATTAN',\n",
    "       '05 MANHATTAN', '07 BRONX', '06 QUEENS', '18 BROOKLYN',\n",
    "       '02 STATEN ISLAND', '15 BROOKLYN', '07 QUEENS', '03 STATEN ISLAND',\n",
    "       '03 QUEENS', '08 QUEENS', '01 STATEN ISLAND', '07 BROOKLYN',\n",
    "       '04 BRONX', '12 BROOKLYN', '12 QUEENS',\n",
    "       '17 BROOKLYN', '04 QUEENS', '03 BROOKLYN', '05 QUEENS',\n",
    "       '02 QUEENS', '03 MANHATTAN', '11 BRONX', '10 BROOKLYN',\n",
    "       '06 BROOKLYN', '11 BROOKLYN', '05 BROOKLYN', '04 BROOKLYN',\n",
    "       '12 MANHATTAN', '09 QUEENS', '09 MANHATTAN', '10 MANHATTAN',\n",
    "       '16 BROOKLYN', '09 BRONX', '05 BRONX', '02 BROOKLYN',\n",
    "       '06 MANHATTAN', '02 BRONX', '08 BROOKLYN', '11 MANHATTAN',\n",
    "       '08 MANHATTAN', '02 MANHATTAN',  '03 BRONX',\n",
    "       '01 MANHATTAN'}\n",
    "# len(community_board_list) # perfect there are 59 community board"
   ]
  },
  {
   "cell_type": "code",
   "execution_count": 426,
   "metadata": {},
   "outputs": [],
   "source": [
    "#drop anything not identified as a community board for right now...\n",
    "api_df_cleaned = api_df[api_df['community_board'].isin(community_board_list)]"
   ]
  },
  {
   "cell_type": "code",
   "execution_count": 427,
   "metadata": {},
   "outputs": [
    {
     "name": "stdout",
     "output_type": "stream",
     "text": [
      "Number of Community Boards: 59\n"
     ]
    }
   ],
   "source": [
    "print(\"Number of Community Boards: {}\".format(api_df_cleaned['community_board'].nunique()))"
   ]
  },
  {
   "cell_type": "markdown",
   "metadata": {},
   "source": [
    "<b>That's better\n",
    "\n",
    "Now we move into only considering calls with a 'status' of Closed. </b>"
   ]
  },
  {
   "cell_type": "code",
   "execution_count": 428,
   "metadata": {},
   "outputs": [],
   "source": [
    "api_df_cleaned = api_df_cleaned[api_df_cleaned['status'] == 'Closed']"
   ]
  },
  {
   "cell_type": "code",
   "execution_count": 429,
   "metadata": {},
   "outputs": [],
   "source": [
    "#drop status as we're not considering it anymore\n",
    "api_df_cleaned.drop('status',axis=1,inplace=True)"
   ]
  },
  {
   "cell_type": "code",
   "execution_count": 430,
   "metadata": {},
   "outputs": [
    {
     "name": "stdout",
     "output_type": "stream",
     "text": [
      "<class 'pandas.core.frame.DataFrame'>\n",
      "Int64Index: 65033 entries, 0 to 99999\n",
      "Data columns (total 8 columns):\n",
      "agency                    65033 non-null object\n",
      "borough                   65033 non-null object\n",
      "closed_date               65033 non-null object\n",
      "community_board           65033 non-null object\n",
      "complaint_type            65033 non-null object\n",
      "created_date              65033 non-null object\n",
      "descriptor                65033 non-null object\n",
      "open_data_channel_type    65033 non-null object\n",
      "dtypes: object(8)\n",
      "memory usage: 4.5+ MB\n"
     ]
    }
   ],
   "source": [
    "api_df_cleaned.info() # finally lets find outliers in our predictions"
   ]
  },
  {
   "cell_type": "markdown",
   "metadata": {},
   "source": [
    "<b>Now we want to know the time for resolution. This involves taking advantage of some pandas functions, which we'll add a column for how long it takes to close each case:</b>"
   ]
  },
  {
   "cell_type": "code",
   "execution_count": 431,
   "metadata": {},
   "outputs": [],
   "source": [
    "created = pd.to_datetime(api_df_cleaned['created_date'],utc=True)\n",
    "closed = pd.to_datetime(api_df_cleaned['closed_date'],utc=True)\n",
    "api_df_cleaned['time_till_resolution'] =created - closed\n",
    "api_df_cleaned['time_till_resolution'] =(-round(\n",
    "    api_df_cleaned['time_till_resolution'].astype('timedelta64[s]')/3600,\n",
    "        2))"
   ]
  },
  {
   "cell_type": "code",
   "execution_count": 432,
   "metadata": {},
   "outputs": [],
   "source": [
    "#Don't need the close date anymore\n",
    "api_df_cleaned.drop('closed_date', axis=1 , inplace=True)"
   ]
  },
  {
   "cell_type": "code",
   "execution_count": 433,
   "metadata": {},
   "outputs": [
    {
     "name": "stdout",
     "output_type": "stream",
     "text": [
      "<class 'pandas.core.frame.DataFrame'>\n",
      "Int64Index: 65033 entries, 0 to 99999\n",
      "Data columns (total 8 columns):\n",
      "agency                    65033 non-null object\n",
      "borough                   65033 non-null object\n",
      "community_board           65033 non-null object\n",
      "complaint_type            65033 non-null object\n",
      "created_date              65033 non-null object\n",
      "descriptor                65033 non-null object\n",
      "open_data_channel_type    65033 non-null object\n",
      "time_till_resolution      65033 non-null float64\n",
      "dtypes: float64(1), object(7)\n",
      "memory usage: 4.5+ MB\n"
     ]
    }
   ],
   "source": [
    "api_df_cleaned.info()"
   ]
  },
  {
   "cell_type": "code",
   "execution_count": 434,
   "metadata": {},
   "outputs": [
    {
     "name": "stdout",
     "output_type": "stream",
     "text": [
      "Average number of hours to close a complaint: 7.73\n"
     ]
    }
   ],
   "source": [
    "print('Average number of hours to close a complaint: {}'.format(\n",
    "    api_df_cleaned['time_till_resolution'].median()))"
   ]
  },
  {
   "cell_type": "markdown",
   "metadata": {},
   "source": [
    "<b>Great, now we need to get dummy variables to run some regression models"
   ]
  },
  {
   "cell_type": "code",
   "execution_count": 435,
   "metadata": {},
   "outputs": [],
   "source": [
    "api_df_cleaned['created_date']= pd.to_datetime(api_df_cleaned['created_date'])\n",
    "api_df_cleaned['created_date_year'] = api_df_cleaned['created_date'].dt.year\n",
    "api_df_cleaned['created_date_month'] = api_df_cleaned['created_date'].dt.month\n",
    "api_df_cleaned['created_date_day'] = api_df_cleaned['created_date'].dt.day\n",
    "api_df_cleaned['created_date_hour'] = api_df_cleaned['created_date'].dt.hour\n",
    "api_df_cleaned['created_date_day_of_week'] = api_df_cleaned['created_date'].dt.dayofweek\n",
    "api_df_cleaned.drop('created_date',axis=1,inplace=True)"
   ]
  },
  {
   "cell_type": "code",
   "execution_count": 436,
   "metadata": {},
   "outputs": [],
   "source": [
    "api_df_cleaned = pd.get_dummies(api_df_cleaned, columns=['agency','borough','community_board',\n",
    "                                      'complaint_type','descriptor','open_data_channel_type'])"
   ]
  },
  {
   "cell_type": "markdown",
   "metadata": {},
   "source": [
    "<b>After getting dummies we end up with a matrix with 773 features and over 95k rows"
   ]
  },
  {
   "cell_type": "code",
   "execution_count": 437,
   "metadata": {},
   "outputs": [
    {
     "data": {
      "text/plain": [
       "(65033, 826)"
      ]
     },
     "execution_count": 437,
     "metadata": {},
     "output_type": "execute_result"
    }
   ],
   "source": [
    "api_df_cleaned.shape"
   ]
  },
  {
   "cell_type": "markdown",
   "metadata": {},
   "source": [
    "<b>Now we'll run some models. Random Forest and Gradient Boost were picked because of their robustness to overfitting, as well as good out of the box results. We split the data to resevere about 30% for testing our results against"
   ]
  },
  {
   "cell_type": "code",
   "execution_count": 438,
   "metadata": {},
   "outputs": [],
   "source": [
    "from sklearn.ensemble import RandomForestRegressor , GradientBoostingRegressor\n",
    "from sklearn.model_selection import train_test_split"
   ]
  },
  {
   "cell_type": "code",
   "execution_count": 439,
   "metadata": {},
   "outputs": [],
   "source": [
    "y = api_df_cleaned.pop('time_till_resolution')\n",
    "X = api_df_cleaned\n",
    "X_train, X_test , y_train, y_test = train_test_split(X,y, test_size = .3, random_state = 33)"
   ]
  },
  {
   "cell_type": "markdown",
   "metadata": {},
   "source": [
    "<b>First we'll start with Random Forest</b>"
   ]
  },
  {
   "cell_type": "code",
   "execution_count": 440,
   "metadata": {},
   "outputs": [
    {
     "name": "stdout",
     "output_type": "stream",
     "text": [
      "R2 score 0.7741774171081134\n"
     ]
    }
   ],
   "source": [
    "random_forest = RandomForestRegressor()# start out of the box\n",
    "random_forest.fit(X_train, y_train)\n",
    "print('R2 score {}'.format(random_forest.score(X_test,y_test)))"
   ]
  },
  {
   "cell_type": "code",
   "execution_count": 441,
   "metadata": {},
   "outputs": [
    {
     "data": {
      "text/plain": [
       "array([0.15879785, 0.134979  , 0.0885988 , 0.08117639, 0.07605022,\n",
       "       0.04790616, 0.04389243, 0.02955155, 0.02371426, 0.02334086])"
      ]
     },
     "execution_count": 441,
     "metadata": {},
     "output_type": "execute_result"
    }
   ],
   "source": [
    "RF_features = random_forest.feature_importances_\n",
    "RF_incides = np.argsort(RF_features)[::-1]\n",
    "RF_names = X_test.columns\n",
    "RF_names[RF_incides][:10]\n",
    "RF_features[RF_incides][:10]"
   ]
  },
  {
   "cell_type": "code",
   "execution_count": 442,
   "metadata": {},
   "outputs": [
    {
     "data": {
      "image/png": "[encoded data removed]",
      "text/plain": [
       "<Figure size 432x288 with 1 Axes>"
      ]
     },
     "metadata": {},
     "output_type": "display_data"
    }
   ],
   "source": [
    "plt.barh(RF_names[RF_incides][:15],RF_features[RF_incides][:15])\n",
    "plt.title('Random Forest Feature Importance');"
   ]
  },
  {
   "cell_type": "markdown",
   "metadata": {},
   "source": [
    "<b>Now Gradient Boost</b>"
   ]
  },
  {
   "cell_type": "code",
   "execution_count": null,
   "metadata": {},
   "outputs": [],
   "source": [
    "gradient_boost = GradientBoostingRegressor()\n",
    "gradient_boost.fit(X_train, y_train)\n",
    "print('R2 score {}'.format(gradient_boost.score(X_test,y_test)))"
   ]
  },
  {
   "cell_type": "code",
   "execution_count": null,
   "metadata": {},
   "outputs": [],
   "source": [
    "GB_features = gradient_boost.feature_importances_\n",
    "GB_incides = np.argsort(GB_features)[::-1]\n",
    "GB_names = X_test.columns\n",
    "GB_names[GB_incides][:10]\n",
    "GB_features[GB_incides][:10]"
   ]
  },
  {
   "cell_type": "code",
   "execution_count": null,
   "metadata": {},
   "outputs": [],
   "source": [
    "plt.barh(GB_names[GB_incides][:15],GB_features[GB_incides][:15])\n",
    "plt.title('Gradient Boost Feature Importance');"
   ]
  },
  {
   "cell_type": "markdown",
   "metadata": {},
   "source": [
    "<b>Overall our models didn't fit great. We may need to look into testing on more data. Feature importance leaned heavily on some connected components such as Agency & Complaint type, which seem to be related. "
   ]
  },
  {
   "cell_type": "markdown",
   "metadata": {},
   "source": [
    "<b>Let us move on to some interesting things from the data:"
   ]
  },
  {
   "cell_type": "code",
   "execution_count": 443,
   "metadata": {},
   "outputs": [],
   "source": [
    "data_cleaner = DataCleaner()\n",
    "data_cleaner.get_data('2018-08-10')"
   ]
  },
  {
   "cell_type": "code",
   "execution_count": 444,
   "metadata": {},
   "outputs": [],
   "source": [
    "#Cleaned 311 Data with locations & dates\n",
    "data_311 = data_cleaner.clean_data()\n",
    "agency_calls = data_311['agency'].value_counts()"
   ]
  },
  {
   "cell_type": "markdown",
   "metadata": {},
   "source": [
    "# Total Complaints In Each Borough "
   ]
  },
  {
   "cell_type": "code",
   "execution_count": 445,
   "metadata": {},
   "outputs": [
    {
     "data": {
      "text/html": [
       "<iframe id=\"igraph\" scrolling=\"no\" style=\"border:none;\" seamless=\"seamless\" src=\"https://plot.ly/~nickeloustex/4.embed\" height=\"525px\" width=\"100%\"></iframe>"
      ],
      "text/plain": [
       "<plotly.tools.PlotlyDisplay object>"
      ]
     },
     "execution_count": 445,
     "metadata": {},
     "output_type": "execute_result"
    }
   ],
   "source": [
    "boroughs = Map311()\n",
    "boroughs.pie_chart(data_311,'borough')"
   ]
  },
  {
   "cell_type": "markdown",
   "metadata": {},
   "source": [
    "##  Top Complaints By Borough"
   ]
  },
  {
   "cell_type": "code",
   "execution_count": null,
   "metadata": {},
   "outputs": [],
   "source": [
    "total_by_borough = data_311.groupby('borough')['complaint_type'].value_counts()"
   ]
  },
  {
   "cell_type": "code",
   "execution_count": null,
   "metadata": {},
   "outputs": [],
   "source": [
    "fig = tools.make_subplots(rows=2, cols=3, \n",
    "                          subplot_titles = ('Bronx','Manhattan','Staten Island'\n",
    "                                           ,'Brooklyn','Queens','Unspecified')\n",
    "                         )"
   ]
  },
  {
   "cell_type": "code",
   "execution_count": null,
   "metadata": {},
   "outputs": [],
   "source": []
  },
  {
   "cell_type": "code",
   "execution_count": null,
   "metadata": {},
   "outputs": [],
   "source": [
    "# total_by_borough"
   ]
  },
  {
   "cell_type": "code",
   "execution_count": null,
   "metadata": {},
   "outputs": [],
   "source": [
    "row =1\n",
    "col =1\n",
    "for i in total_by_borough.index.levels[0]:\n",
    "        if row > 2:\n",
    "            row = 1\n",
    "        sub_list = f[i][:7]\n",
    "        trace = go.Bar(x = list(sub_list.index),\n",
    "                       y=list(sub_list.values),name= i,\n",
    "                      )\n",
    "        fig.append_trace(trace , row, math.floor(col),)\n",
    "        row+=1\n",
    "        col+=.5"
   ]
  },
  {
   "cell_type": "code",
   "execution_count": null,
   "metadata": {},
   "outputs": [],
   "source": [
    "fig['layout'].update(height=600, width=600, \n",
    "                     title='Top Complaints' +'By Borough')\n",
    "\n",
    "py.iplot(fig, filename='customizing-subplot-axes')\n",
    "# fig = go.Figure(data=data, layout=layout) "
   ]
  },
  {
   "cell_type": "markdown",
   "metadata": {},
   "source": [
    "### Complaint Totals by Agencies"
   ]
  },
  {
   "cell_type": "code",
   "execution_count": null,
   "metadata": {},
   "outputs": [],
   "source": [
    "agency_total = go.Bar(x=agency_calls.index,\n",
    "                      y=agency_calls.values,\n",
    "                      text=['NY Police Dept','Sanitation Dept','Housing Dept',\n",
    "                           'Transportation Dept','Enviromental Protection Dept',\n",
    "                           'Buildings Dept','Parks & Rec Dept','Mental Health Dept',\n",
    "                           'Consumer Affairs','Finance Dept', 'Taxi&Limo Commission',\n",
    "                           'Economic Development Corp','Aging Dept','ITT Dept','Education Dept']\n",
    "                     )\n",
    "data = [agency_total]"
   ]
  },
  {
   "cell_type": "code",
   "execution_count": null,
   "metadata": {},
   "outputs": [],
   "source": [
    "py.iplot(data, filename='Agency_Totals')"
   ]
  },
  {
   "cell_type": "markdown",
   "metadata": {},
   "source": [
    "## Top Complaints"
   ]
  },
  {
   "cell_type": "code",
   "execution_count": null,
   "metadata": {},
   "outputs": [],
   "source": [
    "noise_types = ['Noise - Street/Sidewalk','Noise - Vehicle','Noise - Residential','Noise - Commercial','Noise - Park','Noise - House of Worship','Collection Truck Noise']\n",
    "sanitation = ['UNSANITARY CONDITION','Sanitation Condition','Dirty Conditions','Dirty Conditions']\n",
    "complaint_dict = {}\n",
    "for x in sanitation:\n",
    "    complaint_dict[x] = 'Noise'\n"
   ]
  },
  {
   "cell_type": "code",
   "execution_count": null,
   "metadata": {},
   "outputs": [],
   "source": [
    "data_311['complaint_type'].replace(complaint_dict, inplace=True)"
   ]
  },
  {
   "cell_type": "code",
   "execution_count": null,
   "metadata": {},
   "outputs": [],
   "source": [
    "\n",
    "\n",
    "complaint_types = Map311()\n",
    "complaint_types.bar_plot(data_311.complaint_type.value_counts(),'Top Complaints')"
   ]
  },
  {
   "cell_type": "markdown",
   "metadata": {},
   "source": [
    "### Mapping Noise Complaints in NYC:"
   ]
  },
  {
   "cell_type": "code",
   "execution_count": 446,
   "metadata": {},
   "outputs": [],
   "source": [
    "noise_data = data_311[data_311['complaint_type']=='Noise'][['latitude','longitude']].values"
   ]
  },
  {
   "cell_type": "code",
   "execution_count": 447,
   "metadata": {},
   "outputs": [],
   "source": [
    "noise_311 = folium.Map(location=[40.757937,-73.882155], zoom_start=11,\n",
    "                     tiles= \"Stamen Terrain\")"
   ]
  },
  {
   "cell_type": "code",
   "execution_count": 448,
   "metadata": {},
   "outputs": [
    {
     "data": {
      "text/html": [
       "<div style=\"width:100%;\"><div style=\"position:relative;width:100%;height:0;padding-bottom:60%;\"><iframe src=\"data:text/html;charset=utf-8;base64,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\" style=\"position:absolute;width:100%;height:100%;left:0;top:0;border:none !important;\" allowfullscreen webkitallowfullscreen mozallowfullscreen></iframe></div></div>"
      ],
      "text/plain": [
       "<folium.folium.Map at 0x7f2a783870b8>"
      ]
     },
     "execution_count": 448,
     "metadata": {},
     "output_type": "execute_result"
    }
   ],
   "source": [
    "hm = plugins.HeatMap(noise_data,radius=15)\n",
    "hm.add_to(noise_311)\n",
    "noise_311"
   ]
  },
  {
   "cell_type": "code",
   "execution_count": 453,
   "metadata": {},
   "outputs": [],
   "source": [
    "noise_311.save('noise_311.html')"
   ]
  },
  {
   "cell_type": "code",
   "execution_count": 454,
   "metadata": {},
   "outputs": [
    {
     "name": "stdout",
     "output_type": "stream",
     "text": [
      "cleaning.py  mapping.py  noise_311.html  \u001b[0m\u001b[01;34m__pycache__\u001b[0m/  testing.py\r\n"
     ]
    }
   ],
   "source": []
  },
  {
   "cell_type": "code",
   "execution_count": null,
   "metadata": {},
   "outputs": [],
   "source": [
    "#Just created a class to do the above\n",
    "noise.heat_map(data_311,'Noise')"
   ]
  },
  {
   "cell_type": "markdown",
   "metadata": {},
   "source": [
    "### Mapping rodent sightings:"
   ]
  },
  {
   "cell_type": "code",
   "execution_count": null,
   "metadata": {},
   "outputs": [],
   "source": [
    "rodent_data = data_311[data_311['complaint_type']=='Rodent'][['latitude','longitude']].values\n",
    "map_311 = folium.Map(location=[40.757937,-73.882155], zoom_start=11,\n",
    "                    tiles= \"Stamen Terrain\" )\n",
    "map_311.add_child(MarkerCluster(rodent_data))"
   ]
  },
  {
   "cell_type": "markdown",
   "metadata": {},
   "source": [
    "# Let's test out our model against unseen data:"
   ]
  },
  {
   "cell_type": "code",
   "execution_count": 6,
   "metadata": {},
   "outputs": [
    {
     "name": "stdout",
     "output_type": "stream",
     "text": [
      "/home/pipingkid/Galvanize/Energy-NYCHA/scripts\n"
     ]
    }
   ],
   "source": [
    "cd scripts/"
   ]
  },
  {
   "cell_type": "code",
   "execution_count": 7,
   "metadata": {},
   "outputs": [],
   "source": [
    "import pickle\n",
    "from testing import *\n",
    "from sklearn.externals import joblib"
   ]
  },
  {
   "cell_type": "code",
   "execution_count": 8,
   "metadata": {},
   "outputs": [],
   "source": [
    "%load_ext autoreload\n",
    "%autoreload 2"
   ]
  },
  {
   "cell_type": "code",
   "execution_count": 39,
   "metadata": {},
   "outputs": [],
   "source": [
    "predictions = PredictionsTable()"
   ]
  },
  {
   "cell_type": "code",
   "execution_count": 40,
   "metadata": {},
   "outputs": [],
   "source": [
    "predictions.get_data()"
   ]
  },
  {
   "cell_type": "code",
   "execution_count": 41,
   "metadata": {},
   "outputs": [],
   "source": [
    "predictions.clean_data()"
   ]
  },
  {
   "cell_type": "code",
   "execution_count": 42,
   "metadata": {},
   "outputs": [],
   "source": [
    "predictions_dataframe = predictions.predict()"
   ]
  },
  {
   "cell_type": "code",
   "execution_count": 54,
   "metadata": {},
   "outputs": [],
   "source": [
    "predictions_dataframe.to_html(\"predictions_table.html\")"
   ]
  },
  {
   "cell_type": "markdown",
   "metadata": {},
   "source": [
    "### Create an SQL table for easy query for future storage and query"
   ]
  },
  {
   "cell_type": "code",
   "execution_count": 43,
   "metadata": {},
   "outputs": [],
   "source": [
    "import sqlite3 \n",
    "engine = sqlite3.connect(\"/home/pipingkid/Galvanize/Energy-NYCHA/sql_tables/predictions_311.db3\")"
   ]
  },
  {
   "cell_type": "code",
   "execution_count": 44,
   "metadata": {},
   "outputs": [],
   "source": [
    "predictions_dataframe.to_sql('predictions_311', con=engine, if_exists='append')"
   ]
  },
  {
   "cell_type": "code",
   "execution_count": null,
   "metadata": {},
   "outputs": [],
   "source": []
  },
  {
   "cell_type": "code",
   "execution_count": 45,
   "metadata": {},
   "outputs": [],
   "source": [
    "unique_key = engine.execute(\"SELECT unique_key FROM predictions_311\").fetchall()"
   ]
  },
  {
   "cell_type": "code",
   "execution_count": 46,
   "metadata": {},
   "outputs": [],
   "source": [
    "unique_key = tuple([x[0] for x in unique_key])"
   ]
  },
  {
   "cell_type": "code",
   "execution_count": 47,
   "metadata": {},
   "outputs": [
    {
     "data": {
      "text/plain": [
       "('40176158',\n",
       " '40173118',\n",
       " '40176183',\n",
       " '40172583',\n",
       " '40173801',\n",
       " '40172170',\n",
       " '40172000',\n",
       " '40176184',\n",
       " '40170877',\n",
       " '40175859',\n",
       " '40172012',\n",
       " '40173643',\n",
       " '40172153',\n",
       " '40172959',\n",
       " '40174563',\n",
       " '40174441',\n",
       " '40174744',\n",
       " '40173547',\n",
       " '40175986',\n",
       " '40175881',\n",
       " '40172956',\n",
       " '40175409',\n",
       " '40172155',\n",
       " '40173689',\n",
       " '40172067',\n",
       " '40173037',\n",
       " '40170524',\n",
       " '40175413',\n",
       " '40174402',\n",
       " '40174519',\n",
       " '40171483',\n",
       " '40173691',\n",
       " '40171918',\n",
       " '40170473',\n",
       " '40175946',\n",
       " '40172955',\n",
       " '40172853',\n",
       " '40174983',\n",
       " '40174440',\n",
       " '40172361',\n",
       " '40171062',\n",
       " '40176684',\n",
       " '40172958',\n",
       " '40172790',\n",
       " '40174536',\n",
       " '40175144',\n",
       " '40172146',\n",
       " '40171592',\n",
       " '40171265',\n",
       " '40172794',\n",
       " '40174277',\n",
       " '40171217',\n",
       " '40172123',\n",
       " '40175346',\n",
       " '40170649',\n",
       " '40171423',\n",
       " '40175188',\n",
       " '40171105',\n",
       " '40172866',\n",
       " '40174629',\n",
       " '40172854',\n",
       " '40172753',\n",
       " '40176248',\n",
       " '40171981',\n",
       " '40171993',\n",
       " '40172763',\n",
       " '40172906',\n",
       " '40171481',\n",
       " '40174466',\n",
       " '40171299',\n",
       " '40170523',\n",
       " '40171101',\n",
       " '40174602',\n",
       " '40173642',\n",
       " '40170814',\n",
       " '40170639',\n",
       " '40173753',\n",
       " '40175860',\n",
       " '40171267',\n",
       " '40175408',\n",
       " '40174633',\n",
       " '40174461',\n",
       " '40174564',\n",
       " '40172905',\n",
       " '40173421',\n",
       " '40176781',\n",
       " '40172088',\n",
       " '40175556',\n",
       " '40171172',\n",
       " '40171169',\n",
       " '40171646',\n",
       " '40172060',\n",
       " '40173847',\n",
       " '40173635',\n",
       " '40175014',\n",
       " '40171314',\n",
       " '40172851',\n",
       " '40175198',\n",
       " '40175858',\n",
       " '40174526',\n",
       " '40171329',\n",
       " '40173772',\n",
       " '40176784',\n",
       " '40171477',\n",
       " '40175403',\n",
       " '40176372',\n",
       " '40176161',\n",
       " '40173131',\n",
       " '40170901',\n",
       " '40173705',\n",
       " '40175515',\n",
       " '40170513',\n",
       " '40174704',\n",
       " '40173817',\n",
       " '40172685',\n",
       " '40171822',\n",
       " '40175087',\n",
       " '40174529',\n",
       " '40173773',\n",
       " '40173241',\n",
       " '40171323',\n",
       " '40173487',\n",
       " '40173631',\n",
       " '40171887',\n",
       " '40175156',\n",
       " '40172582',\n",
       " '40172850',\n",
       " '40172842',\n",
       " '40173198',\n",
       " '40173548',\n",
       " '40175411',\n",
       " '40173760',\n",
       " '40174351',\n",
       " '40172754',\n",
       " '40171480',\n",
       " '40176160',\n",
       " '40173560',\n",
       " '40174716',\n",
       " '40176276',\n",
       " '40175155',\n",
       " '40171325',\n",
       " '40172102',\n",
       " '40171430',\n",
       " '40170467',\n",
       " '40174360',\n",
       " '40174272',\n",
       " '40174253',\n",
       " '40173815',\n",
       " '40171249',\n",
       " '40171327',\n",
       " '40170692',\n",
       " '40173757',\n",
       " '40176623',\n",
       " '40173033',\n",
       " '40176159',\n",
       " '40174346',\n",
       " '40175154',\n",
       " '40170855',\n",
       " '40172741',\n",
       " '40176729',\n",
       " '40172852',\n",
       " '40176819',\n",
       " '40170679',\n",
       " '40175022',\n",
       " '40172031',\n",
       " '40174534',\n",
       " '40176157',\n",
       " '40172727',\n",
       " '40172606',\n",
       " '40173774',\n",
       " '40176001',\n",
       " '40176811',\n",
       " '40176089',\n",
       " '40175283',\n",
       " '40173756',\n",
       " '40175597',\n",
       " '40176695',\n",
       " '40171930',\n",
       " '40172857',\n",
       " '40171424',\n",
       " '40170472',\n",
       " '40175093',\n",
       " '40171884',\n",
       " '40171197',\n",
       " '40176053',\n",
       " '40173957',\n",
       " '40176175',\n",
       " '40175240',\n",
       " '40172691',\n",
       " '40175038',\n",
       " '40171959',\n",
       " '40176782',\n",
       " '40172121',\n",
       " '40171210',\n",
       " '40176000',\n",
       " '40173572',\n",
       " '40171300',\n",
       " '40175056',\n",
       " '40170634',\n",
       " '40172719',\n",
       " '40170637',\n",
       " '40175531',\n",
       " '40173846',\n",
       " '40172801',\n",
       " '40173775',\n",
       " '40171886',\n",
       " '40173755',\n",
       " '40175191',\n",
       " '40170521',\n",
       " '40175051',\n",
       " '40175125',\n",
       " '40173805',\n",
       " '40171269',\n",
       " '40170466',\n",
       " '40176249',\n",
       " '40174349',\n",
       " '40175057',\n",
       " '40174273',\n",
       " '40171112',\n",
       " '40176225',\n",
       " '40176146',\n",
       " '40175401',\n",
       " '40173693',\n",
       " '40176092',\n",
       " '40175289',\n",
       " '40171129',\n",
       " '40174957',\n",
       " '40171159',\n",
       " '40175199',\n",
       " '40170645',\n",
       " '40176708',\n",
       " '40176366',\n",
       " '40170631',\n",
       " '40171966',\n",
       " '40174319',\n",
       " '40172786',\n",
       " '40173130',\n",
       " '40173034',\n",
       " '40175242',\n",
       " '40176028',\n",
       " '40171200',\n",
       " '40170627',\n",
       " '40172886',\n",
       " '40170680',\n",
       " '40172068',\n",
       " '40175402',\n",
       " '40176182',\n",
       " '40170632',\n",
       " '40174468',\n",
       " '40172869',\n",
       " '40173039',\n",
       " '40175678',\n",
       " '40173038',\n",
       " '40172041',\n",
       " '40173666',\n",
       " '40171936',\n",
       " '40173849',\n",
       " '40175168',\n",
       " '40175023',\n",
       " '40175288',\n",
       " '40170633',\n",
       " '40176243',\n",
       " '40174527',\n",
       " '40176697',\n",
       " '40173640',\n",
       " '40171315',\n",
       " '40175345',\n",
       " '40173148',\n",
       " '40170630',\n",
       " '40171979',\n",
       " '40173754',\n",
       " '40170510',\n",
       " '40171485',\n",
       " '40172353',\n",
       " '40171161',\n",
       " '40175943',\n",
       " '40174347',\n",
       " '40171614',\n",
       " '40171306',\n",
       " '40175055',\n",
       " '40173761',\n",
       " '40174353',\n",
       " '40176763',\n",
       " '40175294',\n",
       " '40172042',\n",
       " '40175292',\n",
       " '40172105',\n",
       " '40171216',\n",
       " '40170535',\n",
       " '40170539',\n",
       " '40172678',\n",
       " '40174986',\n",
       " '40176333',\n",
       " '40172061',\n",
       " '40171032',\n",
       " '40173634',\n",
       " '40175107',\n",
       " '40175784',\n",
       " '40175241',\n",
       " '40170512',\n",
       " '40173561',\n",
       " '40176280',\n",
       " '40171036',\n",
       " '40171474',\n",
       " '40171589',\n",
       " '40172859',\n",
       " '40172352',\n",
       " '40172795',\n",
       " '40170546',\n",
       " '40171647',\n",
       " '40176658',\n",
       " '40175095',\n",
       " '40172224',\n",
       " '40174980',\n",
       " '40170624',\n",
       " '40172364',\n",
       " '40172767',\n",
       " '40174993',\n",
       " '40172154',\n",
       " '40171974',\n",
       " '40175586',\n",
       " '40172065',\n",
       " '40174396',\n",
       " '40175410',\n",
       " '40175024',\n",
       " '40171482',\n",
       " '40171792',\n",
       " '40173636',\n",
       " '40172089',\n",
       " '40174525',\n",
       " '40173591',\n",
       " '40176180',\n",
       " '40176357',\n",
       " '40175585',\n",
       " '40173522',\n",
       " '40174627',\n",
       " '40171331',\n",
       " '40171102',\n",
       " '40173667',\n",
       " '40174345',\n",
       " '40175194',\n",
       " '40175999',\n",
       " '40172034',\n",
       " '40172984',\n",
       " '40171875',\n",
       " '40171111',\n",
       " '40175987',\n",
       " '40171113',\n",
       " '40173692',\n",
       " '40171893',\n",
       " '40170647',\n",
       " '40170644',\n",
       " '40171888',\n",
       " '40173700',\n",
       " '40171215',\n",
       " '40175196',\n",
       " '40176748',\n",
       " '40171041',\n",
       " '40172734',\n",
       " '40171976',\n",
       " '40175998',\n",
       " '40173116',\n",
       " '40170643',\n",
       " '40173989',\n",
       " '40171252',\n",
       " '40175347',\n",
       " '40173759',\n",
       " '40175942',\n",
       " '40175929',\n",
       " '40171428',\n",
       " '40176281',\n",
       " '40170629',\n",
       " '40172104',\n",
       " '40171067',\n",
       " '40177996',\n",
       " '40178830',\n",
       " '40181692',\n",
       " '40182642',\n",
       " '40179395',\n",
       " '40177993',\n",
       " '40182335',\n",
       " '40178076',\n",
       " '40183067',\n",
       " '40180313',\n",
       " '40181675',\n",
       " '40182929',\n",
       " '40177955',\n",
       " '40179130',\n",
       " '40178505',\n",
       " '40179231',\n",
       " '40182852',\n",
       " '40179930',\n",
       " '40180390',\n",
       " '40180843',\n",
       " '40178239',\n",
       " '40182228',\n",
       " '40182038',\n",
       " '40177953',\n",
       " '40181523',\n",
       " '40179830',\n",
       " '40176877',\n",
       " '40180089',\n",
       " '40181548',\n",
       " '40182979',\n",
       " '40182515',\n",
       " '40178032',\n",
       " '40178043',\n",
       " '40181786',\n",
       " '40181046',\n",
       " '40178317',\n",
       " '40178175',\n",
       " '40180458',\n",
       " '40179280',\n",
       " '40179914',\n",
       " '40182686',\n",
       " '40182112',\n",
       " '40178077',\n",
       " '40177653',\n",
       " '40182528',\n",
       " '40181779',\n",
       " '40180966',\n",
       " '40177136',\n",
       " '40179105',\n",
       " '40179745',\n",
       " '40177139',\n",
       " '40178843',\n",
       " '40180511',\n",
       " '40177700',\n",
       " '40181808',\n",
       " '40180958',\n",
       " '40179419',\n",
       " '40180514',\n",
       " '40180494',\n",
       " '40177632',\n",
       " '40180747',\n",
       " '40178504',\n",
       " '40179548',\n",
       " '40182705',\n",
       " '40182824',\n",
       " '40177773',\n",
       " '40176913',\n",
       " '40181458',\n",
       " '40181547',\n",
       " '40179698',\n",
       " '40182463',\n",
       " '40180883',\n",
       " '40178081',\n",
       " '40177651',\n",
       " '40182894',\n",
       " '40177643',\n",
       " '40177323',\n",
       " '40177960',\n",
       " '40176878',\n",
       " '40176828',\n",
       " '40179549',\n",
       " '40182926',\n",
       " '40182568',\n",
       " '40178308',\n",
       " '40178831',\n",
       " '40179511',\n",
       " '40180457',\n",
       " '40177065',\n",
       " '40180549',\n",
       " '40179143',\n",
       " '40178543',\n",
       " '40180967',\n",
       " '40181857',\n",
       " '40177668',\n",
       " '40177442',\n",
       " '40178065',\n",
       " '40180413',\n",
       " '40178584',\n",
       " '40177332',\n",
       " '40178838',\n",
       " '40179741',\n",
       " '40181440',\n",
       " '40182527',\n",
       " '40180972',\n",
       " '40177482',\n",
       " '40178720',\n",
       " '40177608',\n",
       " '40181022',\n",
       " '40177656',\n",
       " '40182363',\n",
       " '40176905',\n",
       " '40178233',\n",
       " '40179788',\n",
       " '40180444',\n",
       " '40179234',\n",
       " '40178228',\n",
       " '40177121',\n",
       " '40180953',\n",
       " '40181047',\n",
       " '40181859',\n",
       " '40179829',\n",
       " '40178824',\n",
       " '40180976',\n",
       " '40181634',\n",
       " '40182523',\n",
       " '40182454',\n",
       " '40178880',\n",
       " '40178593',\n",
       " '40181186',\n",
       " '40179141',\n",
       " '40177441',\n",
       " '40176850',\n",
       " '40177064',\n",
       " '40178905',\n",
       " '40177553',\n",
       " '40180394',\n",
       " '40178234',\n",
       " '40182851',\n",
       " '40180317',\n",
       " '40177119',\n",
       " '40179159',\n",
       " '40179958',\n",
       " '40178066',\n",
       " '40182243',\n",
       " '40177364',\n",
       " '40182522',\n",
       " '40181454',\n",
       " '40178021',\n",
       " '40179942',\n",
       " '40180506',\n",
       " '40181903',\n",
       " '40178610',\n",
       " '40180263',\n",
       " '40179233',\n",
       " '40177669',\n",
       " '40180970',\n",
       " '40183057',\n",
       " '40181936',\n",
       " '40182111',\n",
       " '40182062',\n",
       " '40182234',\n",
       " '40177192',\n",
       " '40177697',\n",
       " '40183025',\n",
       " '40177688',\n",
       " '40178030',\n",
       " '40178954',\n",
       " '40180590',\n",
       " '40180572',\n",
       " '40177111',\n",
       " '40178301',\n",
       " '40180729',\n",
       " '40179407',\n",
       " '40177169',\n",
       " '40179521',\n",
       " '40178067',\n",
       " '40177996',\n",
       " '40178830',\n",
       " '40181692',\n",
       " '40182642',\n",
       " '40179395',\n",
       " '40177993',\n",
       " '40182335',\n",
       " '40178076',\n",
       " '40183067',\n",
       " '40180313',\n",
       " '40181675',\n",
       " '40182929',\n",
       " '40177955',\n",
       " '40179130',\n",
       " '40178505',\n",
       " '40179231',\n",
       " '40182852',\n",
       " '40179930',\n",
       " '40180390',\n",
       " '40180843',\n",
       " '40178239',\n",
       " '40182228',\n",
       " '40182038',\n",
       " '40177953',\n",
       " '40181523',\n",
       " '40179830',\n",
       " '40176877',\n",
       " '40180089',\n",
       " '40181548',\n",
       " '40182979',\n",
       " '40182515',\n",
       " '40178032',\n",
       " '40178043',\n",
       " '40181786',\n",
       " '40181046',\n",
       " '40178317',\n",
       " '40178175',\n",
       " '40180458',\n",
       " '40179280',\n",
       " '40179914',\n",
       " '40182686',\n",
       " '40182112',\n",
       " '40178077',\n",
       " '40177653',\n",
       " '40182528',\n",
       " '40181779',\n",
       " '40180966',\n",
       " '40177136',\n",
       " '40179105',\n",
       " '40179745',\n",
       " '40177139',\n",
       " '40178843',\n",
       " '40180511',\n",
       " '40177700',\n",
       " '40181808',\n",
       " '40180958',\n",
       " '40179419',\n",
       " '40180514',\n",
       " '40180494',\n",
       " '40177632',\n",
       " '40180747',\n",
       " '40178504',\n",
       " '40179548',\n",
       " '40182705',\n",
       " '40182824',\n",
       " '40177773',\n",
       " '40176913',\n",
       " '40181458',\n",
       " '40181547',\n",
       " '40179698',\n",
       " '40182463',\n",
       " '40180883',\n",
       " '40178081',\n",
       " '40177651',\n",
       " '40182894',\n",
       " '40177643',\n",
       " '40177323',\n",
       " '40177960',\n",
       " '40176878',\n",
       " '40176828',\n",
       " '40179549',\n",
       " '40182926',\n",
       " '40182568',\n",
       " '40178308',\n",
       " '40178831',\n",
       " '40179511',\n",
       " '40180457',\n",
       " '40177065',\n",
       " '40180549',\n",
       " '40179143',\n",
       " '40178543',\n",
       " '40180967',\n",
       " '40181857',\n",
       " '40177668',\n",
       " '40177442',\n",
       " '40178065',\n",
       " '40180413',\n",
       " '40178584',\n",
       " '40177332',\n",
       " '40178838',\n",
       " '40179741',\n",
       " '40181440',\n",
       " '40182527',\n",
       " '40180972',\n",
       " '40177482',\n",
       " '40178720',\n",
       " '40177608',\n",
       " '40181022',\n",
       " '40177656',\n",
       " '40182363',\n",
       " '40176905',\n",
       " '40178233',\n",
       " '40179788',\n",
       " '40180444',\n",
       " '40179234',\n",
       " '40178228',\n",
       " '40177121',\n",
       " '40180953',\n",
       " '40181047',\n",
       " '40181859',\n",
       " '40179829',\n",
       " '40178824',\n",
       " '40180976',\n",
       " '40181634',\n",
       " '40182523',\n",
       " '40182454',\n",
       " '40178880',\n",
       " '40178593',\n",
       " '40181186',\n",
       " '40179141',\n",
       " '40177441',\n",
       " '40176850',\n",
       " '40177064',\n",
       " '40178905',\n",
       " '40177553',\n",
       " '40180394',\n",
       " '40178234',\n",
       " '40182851',\n",
       " '40180317',\n",
       " '40177119',\n",
       " '40179159',\n",
       " '40179958',\n",
       " '40178066',\n",
       " '40182243',\n",
       " '40177364',\n",
       " '40182522',\n",
       " '40181454',\n",
       " '40178021',\n",
       " '40179942',\n",
       " '40180506',\n",
       " '40181903',\n",
       " '40178610',\n",
       " '40180263',\n",
       " '40179233',\n",
       " '40177669',\n",
       " '40180970',\n",
       " '40183057',\n",
       " '40181936',\n",
       " '40182111',\n",
       " '40182062',\n",
       " '40182234',\n",
       " '40177192',\n",
       " '40177697',\n",
       " '40183025',\n",
       " '40177688',\n",
       " '40178030',\n",
       " '40178954',\n",
       " '40180590',\n",
       " '40180572',\n",
       " '40177111',\n",
       " '40178301',\n",
       " '40180729',\n",
       " '40179407',\n",
       " '40177169',\n",
       " '40179521',\n",
       " '40178067',\n",
       " '40177996',\n",
       " '40178830',\n",
       " '40181692',\n",
       " '40182642',\n",
       " '40179395',\n",
       " '40177993',\n",
       " '40182335',\n",
       " '40178076',\n",
       " '40183067',\n",
       " '40180313',\n",
       " '40181675',\n",
       " '40182929',\n",
       " '40177955',\n",
       " '40179130',\n",
       " '40178505',\n",
       " '40179231',\n",
       " '40182852',\n",
       " '40179930',\n",
       " '40180390',\n",
       " '40180843',\n",
       " '40178239',\n",
       " '40182228',\n",
       " '40182038',\n",
       " '40177953',\n",
       " '40181523',\n",
       " '40179830',\n",
       " '40176877',\n",
       " '40180089',\n",
       " '40181548',\n",
       " '40182979',\n",
       " '40182515',\n",
       " '40178032',\n",
       " '40178043',\n",
       " '40181786',\n",
       " '40181046',\n",
       " '40178317',\n",
       " '40178175',\n",
       " '40180458',\n",
       " '40179280',\n",
       " '40179914',\n",
       " '40182686',\n",
       " '40182112',\n",
       " '40178077',\n",
       " '40177653',\n",
       " '40182528',\n",
       " '40181779',\n",
       " '40180966',\n",
       " '40177136',\n",
       " '40179105',\n",
       " '40179745',\n",
       " '40177139',\n",
       " '40178843',\n",
       " '40180511',\n",
       " '40177700',\n",
       " '40181808',\n",
       " '40180958',\n",
       " '40179419',\n",
       " '40180514',\n",
       " '40180494',\n",
       " '40177632',\n",
       " '40180747',\n",
       " '40178504',\n",
       " '40179548',\n",
       " '40182705',\n",
       " '40182824',\n",
       " '40177773',\n",
       " '40176913',\n",
       " '40181458',\n",
       " '40181547',\n",
       " '40179698',\n",
       " '40182463',\n",
       " '40180883',\n",
       " '40178081',\n",
       " '40177651',\n",
       " '40182894',\n",
       " '40177643',\n",
       " '40177323',\n",
       " '40177960',\n",
       " '40176878',\n",
       " '40176828',\n",
       " '40179549',\n",
       " '40182926',\n",
       " '40182568',\n",
       " '40178308',\n",
       " '40178831',\n",
       " '40179511',\n",
       " '40180457',\n",
       " '40177065',\n",
       " '40180549',\n",
       " '40179143',\n",
       " '40178543',\n",
       " '40180967',\n",
       " '40181857',\n",
       " '40177668',\n",
       " '40177442',\n",
       " '40178065',\n",
       " '40180413',\n",
       " '40178584',\n",
       " '40177332',\n",
       " '40178838',\n",
       " '40179741',\n",
       " '40181440',\n",
       " '40182527',\n",
       " '40180972',\n",
       " '40177482',\n",
       " '40178720',\n",
       " '40177608',\n",
       " '40181022',\n",
       " '40177656',\n",
       " '40182363',\n",
       " '40176905',\n",
       " '40178233',\n",
       " '40179788',\n",
       " '40180444',\n",
       " '40179234',\n",
       " '40178228',\n",
       " '40177121',\n",
       " '40180953',\n",
       " '40181047',\n",
       " '40181859',\n",
       " '40179829',\n",
       " '40178824',\n",
       " '40180976',\n",
       " '40181634',\n",
       " '40182523',\n",
       " '40182454',\n",
       " '40178880',\n",
       " '40178593',\n",
       " '40181186',\n",
       " '40179141',\n",
       " '40177441',\n",
       " '40176850',\n",
       " '40177064',\n",
       " '40178905',\n",
       " '40177553',\n",
       " '40180394',\n",
       " '40178234',\n",
       " '40182851',\n",
       " '40180317',\n",
       " '40177119',\n",
       " '40179159',\n",
       " '40179958',\n",
       " '40178066',\n",
       " '40182243',\n",
       " '40177364',\n",
       " '40182522',\n",
       " '40181454',\n",
       " '40178021',\n",
       " '40179942',\n",
       " '40180506',\n",
       " '40181903',\n",
       " '40178610',\n",
       " '40180263',\n",
       " '40179233',\n",
       " '40177669',\n",
       " '40180970',\n",
       " '40183057',\n",
       " '40181936',\n",
       " '40182111',\n",
       " '40182062',\n",
       " '40182234',\n",
       " '40177192',\n",
       " '40177697',\n",
       " '40183025',\n",
       " '40177688',\n",
       " '40178030',\n",
       " '40178954',\n",
       " '40180590',\n",
       " '40180572',\n",
       " '40177111',\n",
       " '40178301',\n",
       " '40180729',\n",
       " '40179407',\n",
       " '40177169',\n",
       " '40179521',\n",
       " '40178067',\n",
       " '40177996',\n",
       " '40178830',\n",
       " '40181692',\n",
       " '40182642',\n",
       " '40179395',\n",
       " '40177993',\n",
       " '40182335',\n",
       " '40178076',\n",
       " '40183067',\n",
       " '40180313',\n",
       " '40181675',\n",
       " '40182929',\n",
       " '40177955',\n",
       " '40179130',\n",
       " '40178505',\n",
       " '40179231',\n",
       " '40182852',\n",
       " '40179930',\n",
       " '40180390',\n",
       " '40180843',\n",
       " '40178239',\n",
       " '40182228',\n",
       " '40182038',\n",
       " '40177953',\n",
       " '40181523',\n",
       " '40179830',\n",
       " '40176877',\n",
       " '40180089',\n",
       " '40181548',\n",
       " '40182979',\n",
       " '40182515',\n",
       " '40178032',\n",
       " '40178043',\n",
       " '40181786',\n",
       " '40181046',\n",
       " '40178317',\n",
       " '40178175',\n",
       " '40180458',\n",
       " '40179280',\n",
       " '40179914',\n",
       " '40182686',\n",
       " '40182112',\n",
       " '40178077',\n",
       " '40177653',\n",
       " '40182528',\n",
       " '40181779',\n",
       " '40180966',\n",
       " '40177136',\n",
       " '40179105',\n",
       " '40179745',\n",
       " '40177139',\n",
       " '40178843',\n",
       " '40180511',\n",
       " '40177700',\n",
       " '40181808',\n",
       " '40180958',\n",
       " '40179419',\n",
       " '40180514',\n",
       " '40180494',\n",
       " '40177632',\n",
       " '40180747',\n",
       " '40178504',\n",
       " '40179548',\n",
       " '40182705',\n",
       " '40182824',\n",
       " '40177773',\n",
       " '40176913',\n",
       " '40181458',\n",
       " '40181547',\n",
       " '40179698',\n",
       " '40182463',\n",
       " '40180883',\n",
       " '40178081',\n",
       " '40177651',\n",
       " '40182894',\n",
       " '40177643',\n",
       " '40177323',\n",
       " '40177960',\n",
       " '40176878',\n",
       " '40176828',\n",
       " '40179549',\n",
       " '40182926',\n",
       " '40182568',\n",
       " '40178308',\n",
       " '40178831',\n",
       " '40179511',\n",
       " '40180457',\n",
       " '40177065',\n",
       " '40180549',\n",
       " '40179143',\n",
       " '40178543',\n",
       " '40180967',\n",
       " '40181857',\n",
       " '40177668',\n",
       " '40177442',\n",
       " '40178065',\n",
       " '40180413',\n",
       " '40178584',\n",
       " ...)"
      ]
     },
     "execution_count": 47,
     "metadata": {},
     "output_type": "execute_result"
    }
   ],
   "source": [
    "unique_key"
   ]
  },
  {
   "cell_type": "code",
   "execution_count": 48,
   "metadata": {},
   "outputs": [],
   "source": [
    "database_311 = \"fhrw-4uyv\"\n",
    "client = Socrata('data.cityofnewyork.us', 'tvPeTjPatFwjuelfpMNb0G8WH')\n",
    "        #Save memory initiall by quirying only that what is need:\n",
    "select_sql = \"unique_key,agency,borough,closed_date,community_board,complaint_type,created_date,descriptor,open_data_channel_type,status,longitude,latitude\""
   ]
  },
  {
   "cell_type": "code",
   "execution_count": 49,
   "metadata": {},
   "outputs": [],
   "source": [
    "time = datetime.utcnow()-timedelta(days=2)\n",
    "time_string = '{}-{}-{}T00:00:00.000'.format(time.year,time.month,time.day)\n",
    "query = \"closed_date > '{}' \".format(time_string)\n",
    "results = client.get(database_311, select=select_sql, where=query, limit=1000)\n",
    "data_frame = pd.DataFrame.from_records(results)"
   ]
  },
  {
   "cell_type": "code",
   "execution_count": 50,
   "metadata": {},
   "outputs": [],
   "source": [
    "keys = data_frame[data_frame['unique_key'].isin(unique_key)].unique_key.values"
   ]
  },
  {
   "cell_type": "code",
   "execution_count": 51,
   "metadata": {},
   "outputs": [],
   "source": [
    "actual = data_frame[data_frame['unique_key'].isin(unique_key)]"
   ]
  },
  {
   "cell_type": "code",
   "execution_count": 52,
   "metadata": {},
   "outputs": [
    {
     "data": {
      "text/html": [
       "<div>\n",
       "<style scoped>\n",
       "    .dataframe tbody tr th:only-of-type {\n",
       "        vertical-align: middle;\n",
       "    }\n",
       "\n",
       "    .dataframe tbody tr th {\n",
       "        vertical-align: top;\n",
       "    }\n",
       "\n",
       "    .dataframe thead th {\n",
       "        text-align: right;\n",
       "    }\n",
       "</style>\n",
       "<table border=\"1\" class=\"dataframe\">\n",
       "  <thead>\n",
       "    <tr style=\"text-align: right;\">\n",
       "      <th></th>\n",
       "      <th>agency</th>\n",
       "      <th>borough</th>\n",
       "      <th>closed_date</th>\n",
       "      <th>community_board</th>\n",
       "      <th>complaint_type</th>\n",
       "      <th>created_date</th>\n",
       "      <th>descriptor</th>\n",
       "      <th>latitude</th>\n",
       "      <th>longitude</th>\n",
       "      <th>open_data_channel_type</th>\n",
       "      <th>status</th>\n",
       "    </tr>\n",
       "    <tr>\n",
       "      <th>unique_key</th>\n",
       "      <th></th>\n",
       "      <th></th>\n",
       "      <th></th>\n",
       "      <th></th>\n",
       "      <th></th>\n",
       "      <th></th>\n",
       "      <th></th>\n",
       "      <th></th>\n",
       "      <th></th>\n",
       "      <th></th>\n",
       "      <th></th>\n",
       "    </tr>\n",
       "  </thead>\n",
       "  <tbody>\n",
       "  </tbody>\n",
       "</table>\n",
       "</div>"
      ],
      "text/plain": [
       "Empty DataFrame\n",
       "Columns: [agency, borough, closed_date, community_board, complaint_type, created_date, descriptor, latitude, longitude, open_data_channel_type, status]\n",
       "Index: []"
      ]
     },
     "execution_count": 52,
     "metadata": {},
     "output_type": "execute_result"
    }
   ],
   "source": [
    "actual.set_index('unique_key')"
   ]
  },
  {
   "cell_type": "code",
   "execution_count": 24,
   "metadata": {},
   "outputs": [],
   "source": [
    "created = actual['created_date'] = pd.to_datetime(actual['created_date'])\n",
    "closed = actual['closed_date'] = pd.to_datetime(actual['closed_date'])"
   ]
  },
  {
   "cell_type": "code",
   "execution_count": 25,
   "metadata": {},
   "outputs": [],
   "source": [
    "actual['Real_Time_To_Close'] = created - closed"
   ]
  },
  {
   "cell_type": "code",
   "execution_count": 26,
   "metadata": {},
   "outputs": [],
   "source": [
    "actual['Real_Time_To_Close']= (-round(\n",
    "                                    actual['Real_Time_To_Close'].astype(\n",
    "                                    'timedelta64[s]')/3600,2))"
   ]
  },
  {
   "cell_type": "code",
   "execution_count": 27,
   "metadata": {},
   "outputs": [],
   "source": [
    "actual.set_index('unique_key',inplace=True)"
   ]
  },
  {
   "cell_type": "code",
   "execution_count": 28,
   "metadata": {},
   "outputs": [],
   "source": [
    "actual.sort_index(inplace=True)"
   ]
  },
  {
   "cell_type": "code",
   "execution_count": 29,
   "metadata": {},
   "outputs": [
    {
     "data": {
      "text/html": [
       "<div>\n",
       "<style scoped>\n",
       "    .dataframe tbody tr th:only-of-type {\n",
       "        vertical-align: middle;\n",
       "    }\n",
       "\n",
       "    .dataframe tbody tr th {\n",
       "        vertical-align: top;\n",
       "    }\n",
       "\n",
       "    .dataframe thead th {\n",
       "        text-align: right;\n",
       "    }\n",
       "</style>\n",
       "<table border=\"1\" class=\"dataframe\">\n",
       "  <thead>\n",
       "    <tr style=\"text-align: right;\">\n",
       "      <th></th>\n",
       "      <th>agency</th>\n",
       "      <th>borough</th>\n",
       "      <th>closed_date</th>\n",
       "      <th>community_board</th>\n",
       "      <th>complaint_type</th>\n",
       "      <th>created_date</th>\n",
       "      <th>descriptor</th>\n",
       "      <th>latitude</th>\n",
       "      <th>longitude</th>\n",
       "      <th>open_data_channel_type</th>\n",
       "      <th>status</th>\n",
       "      <th>Real_Time_To_Close</th>\n",
       "    </tr>\n",
       "    <tr>\n",
       "      <th>unique_key</th>\n",
       "      <th></th>\n",
       "      <th></th>\n",
       "      <th></th>\n",
       "      <th></th>\n",
       "      <th></th>\n",
       "      <th></th>\n",
       "      <th></th>\n",
       "      <th></th>\n",
       "      <th></th>\n",
       "      <th></th>\n",
       "      <th></th>\n",
       "      <th></th>\n",
       "    </tr>\n",
       "  </thead>\n",
       "  <tbody>\n",
       "  </tbody>\n",
       "</table>\n",
       "</div>"
      ],
      "text/plain": [
       "Empty DataFrame\n",
       "Columns: [agency, borough, closed_date, community_board, complaint_type, created_date, descriptor, latitude, longitude, open_data_channel_type, status, Real_Time_To_Close]\n",
       "Index: []"
      ]
     },
     "execution_count": 29,
     "metadata": {},
     "output_type": "execute_result"
    }
   ],
   "source": [
    "actual"
   ]
  },
  {
   "cell_type": "code",
   "execution_count": 33,
   "metadata": {},
   "outputs": [],
   "source": [
    "predicted.set_index('unique_key', inplace=True)"
   ]
  },
  {
   "cell_type": "code",
   "execution_count": 34,
   "metadata": {},
   "outputs": [],
   "source": [
    "predicted.sort_index(inplace=True)"
   ]
  },
  {
   "cell_type": "code",
   "execution_count": 35,
   "metadata": {},
   "outputs": [],
   "source": [
    "predicted['Actual_Time'] = actual['Real_Time_To_Close']"
   ]
  },
  {
   "cell_type": "code",
   "execution_count": 36,
   "metadata": {},
   "outputs": [
    {
     "data": {
      "text/html": [
       "<div>\n",
       "<style scoped>\n",
       "    .dataframe tbody tr th:only-of-type {\n",
       "        vertical-align: middle;\n",
       "    }\n",
       "\n",
       "    .dataframe tbody tr th {\n",
       "        vertical-align: top;\n",
       "    }\n",
       "\n",
       "    .dataframe thead th {\n",
       "        text-align: right;\n",
       "    }\n",
       "</style>\n",
       "<table border=\"1\" class=\"dataframe\">\n",
       "  <thead>\n",
       "    <tr style=\"text-align: right;\">\n",
       "      <th></th>\n",
       "      <th>index</th>\n",
       "      <th>agency</th>\n",
       "      <th>borough</th>\n",
       "      <th>community_board</th>\n",
       "      <th>complaint_type</th>\n",
       "      <th>created_date</th>\n",
       "      <th>descriptor</th>\n",
       "      <th>latitude</th>\n",
       "      <th>longitude</th>\n",
       "      <th>open_data_channel_type</th>\n",
       "      <th>status</th>\n",
       "      <th>Predicted_Time_To_Close</th>\n",
       "      <th>Actual_Time</th>\n",
       "    </tr>\n",
       "    <tr>\n",
       "      <th>unique_key</th>\n",
       "      <th></th>\n",
       "      <th></th>\n",
       "      <th></th>\n",
       "      <th></th>\n",
       "      <th></th>\n",
       "      <th></th>\n",
       "      <th></th>\n",
       "      <th></th>\n",
       "      <th></th>\n",
       "      <th></th>\n",
       "      <th></th>\n",
       "      <th></th>\n",
       "      <th></th>\n",
       "    </tr>\n",
       "  </thead>\n",
       "  <tbody>\n",
       "  </tbody>\n",
       "</table>\n",
       "</div>"
      ],
      "text/plain": [
       "Empty DataFrame\n",
       "Columns: [index, agency, borough, community_board, complaint_type, created_date, descriptor, latitude, longitude, open_data_channel_type, status, Predicted_Time_To_Close, Actual_Time]\n",
       "Index: []"
      ]
     },
     "execution_count": 36,
     "metadata": {},
     "output_type": "execute_result"
    }
   ],
   "source": [
    "predicted"
   ]
  },
  {
   "cell_type": "code",
   "execution_count": 32,
   "metadata": {},
   "outputs": [],
   "source": [
    "predicted = pd.read_sql_query(sql=\"SELECT * FROM predictions_311 WHERE unique_key IN {}\".format(tuple(keys)), con=sqlite3.connect(\"/home/pipingkid/Galvanize/Energy-NYCHA/sql_tables/predictions_311.db3\"))"
   ]
  },
  {
   "cell_type": "markdown",
   "metadata": {},
   "source": [
    "## Find clusters of points to raise red flags:"
   ]
  },
  {
   "cell_type": "code",
   "execution_count": 4,
   "metadata": {},
   "outputs": [],
   "source": [
    "from geopy.distance import great_circle , vincenty\n",
    "from sklearn.cluster import DBSCAN\n",
    "from datetime import datetime, timedelta"
   ]
  },
  {
   "cell_type": "code",
   "execution_count": 5,
   "metadata": {},
   "outputs": [],
   "source": [
    " # Domain , SODA API\n",
    "database_311 = \"fhrw-4uyv\"\n",
    "client = Socrata('data.cityofnewyork.us', 'tvPeTjPatFwjuelfpMNb0G8WH')\n",
    "    #Save memory initiall by quirying only that what is need:\n",
    "select_sql = \"created_date,complaint_type,longitude,latitude\""
   ]
  },
  {
   "cell_type": "code",
   "execution_count": 6,
   "metadata": {},
   "outputs": [],
   "source": [
    "time = datetime.utcnow()-timedelta(days=7)\n",
    "time_string = '{}-{}-{}T00:00:00.000'.format(time.year,time.month,time.day)\n",
    "query = \"created_date > '{}' AND complaint_type LIKE '%Homeless%' \".format(time_string)\n",
    "results = client.get(database_311, select=select_sql, where=query, limit=100000)\n",
    "predictions_dataframe = pd.DataFrame.from_records(results)"
   ]
  },
  {
   "cell_type": "code",
   "execution_count": 7,
   "metadata": {},
   "outputs": [
    {
     "name": "stdout",
     "output_type": "stream",
     "text": [
      "<class 'pandas.core.frame.DataFrame'>\n",
      "RangeIndex: 606 entries, 0 to 605\n",
      "Data columns (total 4 columns):\n",
      "complaint_type    606 non-null object\n",
      "created_date      606 non-null object\n",
      "latitude          601 non-null object\n",
      "longitude         601 non-null object\n",
      "dtypes: object(4)\n",
      "memory usage: 19.0+ KB\n"
     ]
    }
   ],
   "source": [
    "predictions_dataframe.info()"
   ]
  },
  {
   "cell_type": "code",
   "execution_count": 8,
   "metadata": {},
   "outputs": [
    {
     "data": {
      "text/plain": [
       "Homeless Person Assistance    462\n",
       "Homeless Encampment           144\n",
       "Name: complaint_type, dtype: int64"
      ]
     },
     "execution_count": 8,
     "metadata": {},
     "output_type": "execute_result"
    }
   ],
   "source": [
    "predictions_dataframe.complaint_type.value_counts()"
   ]
  },
  {
   "cell_type": "code",
   "execution_count": 9,
   "metadata": {},
   "outputs": [
    {
     "name": "stderr",
     "output_type": "stream",
     "text": [
      "/home/pipingkid/anaconda3/lib/python3.6/site-packages/ipykernel_launcher.py:2: FutureWarning:\n",
      "\n",
      "convert_objects is deprecated.  To re-infer data dtypes for object columns, use DataFrame.infer_objects()\n",
      "For all other conversions use the data-type specific converters pd.to_datetime, pd.to_timedelta and pd.to_numeric.\n",
      "\n"
     ]
    }
   ],
   "source": [
    "coordinates = predictions_dataframe[['latitude', 'longitude']]\n",
    "coordinates = coordinates.convert_objects(convert_numeric=True)\n",
    "coordinates.dropna(inplace=True)"
   ]
  },
  {
   "cell_type": "code",
   "execution_count": 10,
   "metadata": {},
   "outputs": [
    {
     "data": {
      "text/plain": [
       "40.709213026460425"
      ]
     },
     "execution_count": 10,
     "metadata": {},
     "output_type": "execute_result"
    }
   ],
   "source": [
    "coordinates.values[0][0]"
   ]
  },
  {
   "cell_type": "code",
   "execution_count": 11,
   "metadata": {},
   "outputs": [],
   "source": [
    "def GreatCircleDistance(x, y):\n",
    "    lat1, lon1 = x[0], x[1]\n",
    "    lat2, lon2 = y[0], y[1]\n",
    "    return great_circle((lat1, lon1), (lat2, lon2)).meters\n"
   ]
  },
  {
   "cell_type": "code",
   "execution_count": 12,
   "metadata": {},
   "outputs": [
    {
     "data": {
      "text/plain": [
       "5809.630932184036"
      ]
     },
     "execution_count": 12,
     "metadata": {},
     "output_type": "execute_result"
    }
   ],
   "source": [
    "#measure based upon great circle distance as Lat & Long have different measurments when it comes to euclidean \n",
    "great_circle(coordinates[:1].values,coordinates[1:2].values).meters"
   ]
  },
  {
   "cell_type": "code",
   "execution_count": 13,
   "metadata": {},
   "outputs": [],
   "source": [
    "#For noise complaints we'll stick to 50meters. Note this is extreamly subjective!"
   ]
  },
  {
   "cell_type": "code",
   "execution_count": 14,
   "metadata": {},
   "outputs": [],
   "source": [
    "total = DBSCAN(eps=50, min_samples=5, metric=GreatCircleDistance, n_jobs=-1).fit(coordinates.values)"
   ]
  },
  {
   "cell_type": "code",
   "execution_count": 15,
   "metadata": {},
   "outputs": [
    {
     "data": {
      "text/plain": [
       "601"
      ]
     },
     "execution_count": 15,
     "metadata": {},
     "output_type": "execute_result"
    }
   ],
   "source": [
    "# outliers are -1, and clusters are everything from 0 on up\n",
    "noise_complaints = pd.DataFrame(coordinates.values, columns=['Latitude', 'Longitude'])\n",
    "len(total.labels_)"
   ]
  },
  {
   "cell_type": "code",
   "execution_count": 16,
   "metadata": {},
   "outputs": [],
   "source": [
    "noise_complaints['label'] = total.labels_"
   ]
  },
  {
   "cell_type": "code",
   "execution_count": 17,
   "metadata": {},
   "outputs": [
    {
     "data": {
      "text/html": [
       "<div>\n",
       "<style scoped>\n",
       "    .dataframe tbody tr th:only-of-type {\n",
       "        vertical-align: middle;\n",
       "    }\n",
       "\n",
       "    .dataframe tbody tr th {\n",
       "        vertical-align: top;\n",
       "    }\n",
       "\n",
       "    .dataframe thead th {\n",
       "        text-align: right;\n",
       "    }\n",
       "</style>\n",
       "<table border=\"1\" class=\"dataframe\">\n",
       "  <thead>\n",
       "    <tr style=\"text-align: right;\">\n",
       "      <th></th>\n",
       "      <th>Latitude</th>\n",
       "      <th>Longitude</th>\n",
       "    </tr>\n",
       "    <tr>\n",
       "      <th>label</th>\n",
       "      <th></th>\n",
       "      <th></th>\n",
       "    </tr>\n",
       "  </thead>\n",
       "  <tbody>\n",
       "    <tr>\n",
       "      <th>0</th>\n",
       "      <td>40.709624</td>\n",
       "      <td>-74.006582</td>\n",
       "    </tr>\n",
       "    <tr>\n",
       "      <th>1</th>\n",
       "      <td>40.756592</td>\n",
       "      <td>-73.996115</td>\n",
       "    </tr>\n",
       "    <tr>\n",
       "      <th>2</th>\n",
       "      <td>40.776265</td>\n",
       "      <td>-73.982128</td>\n",
       "    </tr>\n",
       "    <tr>\n",
       "      <th>3</th>\n",
       "      <td>40.759798</td>\n",
       "      <td>-73.976533</td>\n",
       "    </tr>\n",
       "    <tr>\n",
       "      <th>4</th>\n",
       "      <td>40.737624</td>\n",
       "      <td>-73.996749</td>\n",
       "    </tr>\n",
       "    <tr>\n",
       "      <th>5</th>\n",
       "      <td>40.772145</td>\n",
       "      <td>-73.982229</td>\n",
       "    </tr>\n",
       "    <tr>\n",
       "      <th>6</th>\n",
       "      <td>40.770060</td>\n",
       "      <td>-73.982250</td>\n",
       "    </tr>\n",
       "    <tr>\n",
       "      <th>7</th>\n",
       "      <td>40.684043</td>\n",
       "      <td>-73.943505</td>\n",
       "    </tr>\n",
       "    <tr>\n",
       "      <th>8</th>\n",
       "      <td>40.743716</td>\n",
       "      <td>-73.983092</td>\n",
       "    </tr>\n",
       "    <tr>\n",
       "      <th>9</th>\n",
       "      <td>40.735535</td>\n",
       "      <td>-73.989585</td>\n",
       "    </tr>\n",
       "    <tr>\n",
       "      <th>10</th>\n",
       "      <td>40.763653</td>\n",
       "      <td>-73.981556</td>\n",
       "    </tr>\n",
       "    <tr>\n",
       "      <th>11</th>\n",
       "      <td>40.671447</td>\n",
       "      <td>-73.961507</td>\n",
       "    </tr>\n",
       "  </tbody>\n",
       "</table>\n",
       "</div>"
      ],
      "text/plain": [
       "        Latitude  Longitude\n",
       "label                      \n",
       "0      40.709624 -74.006582\n",
       "1      40.756592 -73.996115\n",
       "2      40.776265 -73.982128\n",
       "3      40.759798 -73.976533\n",
       "4      40.737624 -73.996749\n",
       "5      40.772145 -73.982229\n",
       "6      40.770060 -73.982250\n",
       "7      40.684043 -73.943505\n",
       "8      40.743716 -73.983092\n",
       "9      40.735535 -73.989585\n",
       "10     40.763653 -73.981556\n",
       "11     40.671447 -73.961507"
      ]
     },
     "execution_count": 17,
     "metadata": {},
     "output_type": "execute_result"
    }
   ],
   "source": [
    "noise_complaints[noise_complaints.label > -1].groupby('label').mean()"
   ]
  },
  {
   "cell_type": "code",
   "execution_count": 18,
   "metadata": {},
   "outputs": [],
   "source": [
    "#plotting! \n"
   ]
  },
  {
   "cell_type": "code",
   "execution_count": 19,
   "metadata": {},
   "outputs": [],
   "source": [
    "NYC = [40.757937,-73.882155]\n",
    "noise_means = noise_complaints[noise_complaints.label > -1].groupby('label').mean()\n",
    "MAX_Count = len(noise_complaints[noise_complaints.label > -1].groupby('label').mean())"
   ]
  },
  {
   "cell_type": "code",
   "execution_count": 20,
   "metadata": {},
   "outputs": [],
   "source": [
    "flag_noise = folium.Map(location=NYC , zoom_start=11)\n",
    "for each in noise_means[0:MAX_Count].iterrows():\n",
    "        folium.Marker(location = [each[1]['Latitude'],each[1]['Longitude']]).add_to(flag_noise)"
   ]
  },
  {
   "cell_type": "code",
   "execution_count": 22,
   "metadata": {
    "scrolled": false
   },
   "outputs": [],
   "source": [
    "flag_noise.save('../noise_complaints_flagged.html')\n",
    "# flag_noise #More than 3 complaints within 50 meters of each other yesterday."
   ]
  },
  {
   "cell_type": "code",
   "execution_count": 167,
   "metadata": {},
   "outputs": [
    {
     "data": {
      "text/plain": [
       "Request Large Bulky Item Collection    3230\n",
       "Name: complaint_type, dtype: int64"
      ]
     },
     "execution_count": 167,
     "metadata": {},
     "output_type": "execute_result"
    }
   ],
   "source": [
    "predictions_dataframe.complaint_type.value_counts()"
   ]
  },
  {
   "cell_type": "markdown",
   "metadata": {},
   "source": [
    "## RODENTS"
   ]
  },
  {
   "cell_type": "code",
   "execution_count": 12,
   "metadata": {},
   "outputs": [],
   "source": [
    "from geopy.distance import great_circle , vincenty\n",
    "from sklearn.cluster import DBSCAN\n",
    "from datetime import datetime, timedelta"
   ]
  },
  {
   "cell_type": "code",
   "execution_count": 147,
   "metadata": {},
   "outputs": [],
   "source": [
    " # Domain , SODA API\n",
    "database_311 = \"fhrw-4uyv\"\n",
    "client = Socrata('data.cityofnewyork.us', 'tvPeTjPatFwjuelfpMNb0G8WH')\n",
    "    #Save memory initiall by quirying only that what is need:\n",
    "select_sql = \"created_date,complaint_type,longitude,latitude\""
   ]
  },
  {
   "cell_type": "code",
   "execution_count": 148,
   "metadata": {},
   "outputs": [],
   "source": [
    "time = datetime.utcnow()-timedelta(days=7)\n",
    "time_string = '{}-{}-{}T00:00:00.000'.format(time.year,time.month,time.day)\n",
    "query = \"created_date > '{}' AND complaint_type LIKE '%Bulky%' \".format(time_string)\n",
    "results = client.get(database_311, select=select_sql, where=query, limit=100000)\n",
    "predictions_dataframe = pd.DataFrame.from_records(results)"
   ]
  },
  {
   "cell_type": "code",
   "execution_count": 149,
   "metadata": {},
   "outputs": [
    {
     "name": "stdout",
     "output_type": "stream",
     "text": [
      "<class 'pandas.core.frame.DataFrame'>\n",
      "RangeIndex: 3230 entries, 0 to 3229\n",
      "Data columns (total 4 columns):\n",
      "complaint_type    3230 non-null object\n",
      "created_date      3230 non-null object\n",
      "latitude          3229 non-null object\n",
      "longitude         3229 non-null object\n",
      "dtypes: object(4)\n",
      "memory usage: 101.0+ KB\n"
     ]
    }
   ],
   "source": [
    "predictions_dataframe.info()"
   ]
  },
  {
   "cell_type": "code",
   "execution_count": 130,
   "metadata": {},
   "outputs": [
    {
     "data": {
      "text/plain": [
       "Rodent    454\n",
       "Name: complaint_type, dtype: int64"
      ]
     },
     "execution_count": 130,
     "metadata": {},
     "output_type": "execute_result"
    }
   ],
   "source": [
    "predictions_dataframe.complaint_type.value_counts()"
   ]
  },
  {
   "cell_type": "code",
   "execution_count": 150,
   "metadata": {},
   "outputs": [
    {
     "name": "stderr",
     "output_type": "stream",
     "text": [
      "/home/pipingkid/anaconda3/lib/python3.6/site-packages/ipykernel_launcher.py:2: FutureWarning:\n",
      "\n",
      "convert_objects is deprecated.  To re-infer data dtypes for object columns, use DataFrame.infer_objects()\n",
      "For all other conversions use the data-type specific converters pd.to_datetime, pd.to_timedelta and pd.to_numeric.\n",
      "\n"
     ]
    }
   ],
   "source": [
    "coordinates = predictions_dataframe[['latitude', 'longitude']]\n",
    "coordinates = coordinates.convert_objects(convert_numeric=True)\n",
    "coordinates.dropna(inplace=True)"
   ]
  },
  {
   "cell_type": "code",
   "execution_count": 132,
   "metadata": {},
   "outputs": [
    {
     "data": {
      "text/plain": [
       "40.819823775107935"
      ]
     },
     "execution_count": 132,
     "metadata": {},
     "output_type": "execute_result"
    }
   ],
   "source": [
    "coordinates.values[0][0]"
   ]
  },
  {
   "cell_type": "code",
   "execution_count": 151,
   "metadata": {},
   "outputs": [],
   "source": [
    "def GreatCircleDistance(x, y):\n",
    "    lat1, lon1 = x[0], x[1]\n",
    "    lat2, lon2 = y[0], y[1]\n",
    "    return great_circle((lat1, lon1), (lat2, lon2)).meters\n"
   ]
  },
  {
   "cell_type": "code",
   "execution_count": 152,
   "metadata": {},
   "outputs": [
    {
     "data": {
      "text/plain": [
       "14432.175730714413"
      ]
     },
     "execution_count": 152,
     "metadata": {},
     "output_type": "execute_result"
    }
   ],
   "source": [
    "#measure based upon great circle distance as Lat & Long have different measurments when it comes to euclidean \n",
    "great_circle(coordinates[:1].values,coordinates[1:2].values).meters"
   ]
  },
  {
   "cell_type": "code",
   "execution_count": 135,
   "metadata": {},
   "outputs": [],
   "source": [
    "#For noise complaints we'll stick to 50meters. Note this is extreamly subjective!"
   ]
  },
  {
   "cell_type": "code",
   "execution_count": 161,
   "metadata": {},
   "outputs": [],
   "source": [
    "total = DBSCAN(eps=50, min_samples=5, metric=GreatCircleDistance, n_jobs=-1).fit(coordinates.values)"
   ]
  },
  {
   "cell_type": "code",
   "execution_count": 162,
   "metadata": {},
   "outputs": [
    {
     "data": {
      "text/plain": [
       "3229"
      ]
     },
     "execution_count": 162,
     "metadata": {},
     "output_type": "execute_result"
    }
   ],
   "source": [
    "# outliers are -1, and clusters are everything from 0 on up\n",
    "noise_complaints = pd.DataFrame(coordinates.values, columns=['Latitude', 'Longitude'])\n",
    "len(total.labels_)"
   ]
  },
  {
   "cell_type": "code",
   "execution_count": 163,
   "metadata": {},
   "outputs": [],
   "source": [
    "noise_complaints['label'] = total.labels_"
   ]
  },
  {
   "cell_type": "code",
   "execution_count": 157,
   "metadata": {},
   "outputs": [],
   "source": [
    "#plotting! \n"
   ]
  },
  {
   "cell_type": "code",
   "execution_count": 164,
   "metadata": {},
   "outputs": [],
   "source": [
    "NYC = [40.757937,-73.882155]\n",
    "noise_means = noise_complaints[noise_complaints.label > -1].groupby('label').mean()\n",
    "MAX_Count = len(noise_complaints[noise_complaints.label > -1].groupby('label').mean())"
   ]
  },
  {
   "cell_type": "code",
   "execution_count": 165,
   "metadata": {},
   "outputs": [],
   "source": [
    "flag_noise = folium.Map(location=NYC , zoom_start=11)\n",
    "for each in noise_means[0:MAX_Count].iterrows():\n",
    "        folium.Marker(location = [each[1]['Latitude'],each[1]['Longitude']]).add_to(flag_noise)"
   ]
  },
  {
   "cell_type": "code",
   "execution_count": 23,
   "metadata": {},
   "outputs": [
    {
     "data": {
      "text/html": [
       "<div style=\"width:100%;\"><div style=\"position:relative;width:100%;height:0;padding-bottom:60%;\"><iframe src=\"data:text/html;charset=utf-8;base64,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\" style=\"position:absolute;width:100%;height:100%;left:0;top:0;border:none !important;\" allowfullscreen webkitallowfullscreen mozallowfullscreen></iframe></div></div>"
      ],
      "text/plain": [
       "<folium.folium.Map at 0x7f1804d4bb70>"
      ]
     },
     "execution_count": 23,
     "metadata": {},
     "output_type": "execute_result"
    }
   ],
   "source": [
    "# flag_noise.save('../rodent_complaints_flagged.html')\n",
    "flag_noise #More than 3 complaints within 50 meters of each other last 7 Days."
   ]
  },
  {
   "cell_type": "code",
   "execution_count": null,
   "metadata": {},
   "outputs": [],
   "source": [
    "predictions_dataframe.complaint_type.value_counts()"
   ]
  },
  {
   "cell_type": "code",
   "execution_count": 32,
   "metadata": {},
   "outputs": [],
   "source": [
    "hm = plugins.HeatMap([[0,0]])\n",
    "hm.add_to(flag_noise)\n",
    "flag_noise\n",
    "flag_noise.save(\"flag_noise.html\")"
   ]
  },
  {
   "cell_type": "markdown",
   "metadata": {},
   "source": [
    "## Add to S3"
   ]
  },
  {
   "cell_type": "code",
   "execution_count": 144,
   "metadata": {},
   "outputs": [],
   "source": [
    "import boto3\n",
    "client = boto3.client('s3') #low-level functional API\n",
    "resource = boto3.resource('s3') #high-level object-oriented API\n",
    "my_bucket = resource.Bucket('capstone311-bucket') \n",
    "\n",
    "my_bucket.upload_file('../rodent_complaints_flagged.html', Key='rodent_flagged.html', ExtraArgs={'ACL':'public-read'})\n"
   ]
  },
  {
   "cell_type": "code",
   "execution_count": 87,
   "metadata": {},
   "outputs": [],
   "source": [
    "\n"
   ]
  },
  {
   "cell_type": "code",
   "execution_count": null,
   "metadata": {},
   "outputs": [],
   "source": [
    "def fileId_from_url(url):\n",
    "    \"\"\"Return fileId from a url.\"\"\"\n",
    "    raw_fileId = re.findall(\"~[A-z]+/[0-9]+\", url)[0][1: ]\n",
    "    return raw_fileId.replace('/', ':')"
   ]
  },
  {
   "cell_type": "code",
   "execution_count": null,
   "metadata": {},
   "outputs": [],
   "source": [
    "file_1 = fileId_from_url('https://plot.ly/~nickeloustex/8')"
   ]
  },
  {
   "cell_type": "code",
   "execution_count": null,
   "metadata": {},
   "outputs": [],
   "source": [
    "file_1"
   ]
  },
  {
   "cell_type": "code",
   "execution_count": null,
   "metadata": {},
   "outputs": [],
   "source": [
    "box_1 = {\n",
    "    'type': 'box',\n",
    "    'boxType': 'bar',\n",
    "    'fileId': 'nickeloustex:8',\n",
    "    'title': 'Complaints-By-Borough'\n",
    "}\n",
    " \n",
    "box_2 = {\n",
    "    'type': 'box',\n",
    "    'boxType': 'plot',\n",
    "    'fileId': '8',\n",
    "    'title': 'pie-for-dashboard'\n",
    "}\n",
    " \n",
    "box_3 = {\n",
    "    'type': 'box',\n",
    "    'boxType': 'plot',\n",
    "    'fileId': 'PlotBot:1342',\n",
    "    'title': 'box-for-dashboard',\n",
    "    'shareKey':'uVoeGB1i8Xf4fk0b57sT2l'\n",
    "}"
   ]
  },
  {
   "cell_type": "code",
   "execution_count": null,
   "metadata": {},
   "outputs": [],
   "source": [
    "my_dboard.insert(box_1)"
   ]
  },
  {
   "cell_type": "code",
   "execution_count": null,
   "metadata": {},
   "outputs": [],
   "source": [
    "\n",
    "my_dboard.get_preview()"
   ]
  },
  {
   "cell_type": "code",
   "execution_count": null,
   "metadata": {},
   "outputs": [],
   "source": []
  },
  {
   "cell_type": "markdown",
   "metadata": {},
   "source": [
    "For tomorrow:\n",
    "Dashboard for rasing flags for top complaints by top agencies (based upon location)\n",
    "Table view based on unique id \n",
    "Predict function based on complaint (issues with community board, agency, ect)\n",
    "Avg times for complaints by department\n",
    "\n"
   ]
  },
  {
   "cell_type": "markdown",
   "metadata": {},
   "source": [
    "## Dash"
   ]
  },
  {
   "cell_type": "code",
   "execution_count": 195,
   "metadata": {},
   "outputs": [],
   "source": [
    "import dash\n",
    "from dash.dependencies import Input, Output\n",
    "import dash_core_components as dcc\n",
    "import dash_html_components as html\n",
    "# from pandas_datareader import data as web\n",
    "from datetime import datetime as dt\n",
    "\n",
    "app = dash.Dash()\n",
    "\n",
    "app.layout = html.Div([\n",
    "    html.H1('Stock Tickers'),\n",
    "    dcc.Dropdown(\n",
    "        id='my-dropdown',\n",
    "        options=[\n",
    "            {'label': 'Coke', 'value': 'COKE'},\n",
    "            {'label': 'Tesla', 'value': 'TSLA'},\n",
    "            {'label': 'Apple', 'value': 'AAPL'}\n",
    "        ],\n",
    "        value='COKE'\n",
    "    ),\n",
    "    dcc.Graph(id='my-graph')\n",
    "])\n"
   ]
  },
  {
   "cell_type": "code",
   "execution_count": null,
   "metadata": {},
   "outputs": [],
   "source": []
  },
  {
   "cell_type": "code",
   "execution_count": null,
   "metadata": {},
   "outputs": [],
   "source": []
  }
 ],
 "metadata": {
  "kernelspec": {
   "display_name": "Python 3",
   "language": "python",
   "name": "python3"
  },
  "language_info": {
   "codemirror_mode": {
    "name": "ipython",
    "version": 3
   },
   "file_extension": ".py",
   "mimetype": "text/x-python",
   "name": "python",
   "nbconvert_exporter": "python",
   "pygments_lexer": "ipython3",
   "version": "3.6.6"
  }
 },
 "nbformat": 4,
 "nbformat_minor": 2
}
